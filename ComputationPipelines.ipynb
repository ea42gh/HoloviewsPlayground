{
 "cells": [
  {
   "cell_type": "code",
   "execution_count": null,
   "metadata": {
    "Collapsed": "false",
    "hide_input": false,
    "init_cell": true
   },
   "outputs": [],
   "source": [
    "from itertools import *\n",
    "from functools import partial, reduce\n",
    "\n",
    "import streamz   as sz\n",
    "import cytoolz   as cz\n",
    "\n",
    "import numpy as np\n",
    "import pandas as pd\n",
    "\n",
    "import holoviews as hv\n",
    "from holoviews.streams import Buffer\n",
    "\n",
    "hv.extension('bokeh')"
   ]
  },
  {
   "cell_type": "markdown",
   "metadata": {
    "Collapsed": "false",
    "heading_collapsed": true
   },
   "source": [
    "# numpy output preprocessor"
   ]
  },
  {
   "cell_type": "code",
   "execution_count": null,
   "metadata": {
    "Collapsed": "false",
    "code_folding": [],
    "hidden": true
   },
   "outputs": [],
   "source": [
    "# utility to make np output prettier\n",
    "import contextlib\n",
    "\n",
    "@contextlib.contextmanager\n",
    "def printoptions(*args, **kwargs):\n",
    "    original = np.get_printoptions()\n",
    "    np.set_printoptions(*args, **kwargs)\n",
    "    try:\n",
    "        yield\n",
    "    finally: \n",
    "        np.set_printoptions(**original)\n",
    "\n",
    "x = np.hstack( [np.random.normal(size=9),[0.]])\n",
    "with printoptions(precision=3, floatmode='fixed', sign=' ', suppress=True):\n",
    "    print(x)"
   ]
  },
  {
   "cell_type": "code",
   "execution_count": null,
   "metadata": {
    "Collapsed": "false",
    "hidden": true
   },
   "outputs": [],
   "source": [
    "# hv Dataframe buffer for plotting eigenvalues\n",
    "\n",
    "def eigenvalue_plot():\n",
    "    eigenvalue_estimates = pd.DataFrame({'iteration': [], 'eigenvalue': [], 'diff': []}, columns=['iteration', 'eigenvalue', 'diff'])\n",
    "    eigenvalue_stream    = Buffer(eigenvalue_estimates, length=100, index=False)\n",
    "\n",
    "    def plot(data):\n",
    "        h = hv.Curve(data, 'iteration', 'eigenvalue', label='Evolution of the Eigenvalue')+\\\n",
    "            hv.Curve(data, 'iteration', 'diff',       label = 'Change in the Eigenvector')\n",
    "        return h\n",
    "\n",
    "    h =\\\n",
    "    hv.DynamicMap( plot, streams=[eigenvalue_stream] )\\\n",
    "      .relabel('Evolution of the Eigenvalue')\n",
    "\n",
    "    return eigenvalue_stream, h"
   ]
  },
  {
   "cell_type": "markdown",
   "metadata": {
    "Collapsed": "false",
    "heading_collapsed": true
   },
   "source": [
    "# Example: Power method to find dominant eigenvalue/eigenvector"
   ]
  },
  {
   "cell_type": "markdown",
   "metadata": {
    "Collapsed": "false",
    "hidden": true
   },
   "source": [
    "Let $(\\lambda_i, x_i)$ be the eigenvalue/eigenvector pairs of a non-degenerate matrix $A$, and assume $| \\lambda_0 | > | \\lambda_i |$ for all $i > 0$,<br>\n",
    "i.e., $A$ has a 'dominant eigenvalue'.\n",
    "\n",
    "For any vector $x = \\sum_i { \\alpha_i x_i }$, we have $A^n x = \\sum_i {\\lambda_i^n \\alpha_i x_i}$. Factoring out $\\lambda_0$, we see that\n",
    "$$\n",
    "A^n x = \\lambda_0^n \\alpha_0  x_0 + \\sum_{i=1}{( \\lambda_i/\\lambda_0 )^n \\alpha_i x_i} \\approx \\lambda_0^n \\alpha_0 x_0\n",
    "$$\n",
    "as $n$ grows large.\n",
    "\n",
    "Computing this expression recursively starting with some random vector $b$ with a component along $x_0$, i.e., $\\alpha_0 \\ne 0$, and rescaling the result at each step results in\n",
    "* $b_{n+1} = A {\\hat{b}_n}$, where for large $n$ we have $b_{n+1} \\approx \\lambda_0 x_0$\n",
    "* $\\hat{b}_{n+1} = b_{n+1} / | b_{n+1}$  to ensure good numerical behavior"
   ]
  },
  {
   "cell_type": "code",
   "execution_count": null,
   "metadata": {
    "Collapsed": "false",
    "code_folding": [],
    "hidden": true
   },
   "outputs": [],
   "source": [
    "# straightforward implementation\n",
    "\n",
    "def power_method(A, x, n=1000, tol=1.e-8 ):\n",
    "    '''Power method to obtain dominant eigenvector of a matrix\n",
    "    \n",
    "    Args:\n",
    "        A   : a square np.array (assumed to have a dominant eigenvalue)\n",
    "        x   : a starting np vector for the iteration (assumed to have a component along the dominant eigenvector)\n",
    "        n   : maximum number of iterations\n",
    "        tol : tolerance for a convergence criterion\n",
    "        \n",
    "    Returns:\n",
    "        dominant eigenpair if found, None otherwise\n",
    "    '''\n",
    "    tol2 = tol*tol\n",
    "    #evolution = []\n",
    "\n",
    "    for i in range(n):\n",
    "        new_x = A @ x\n",
    "        \n",
    "        # check for convergence\n",
    "        diff       = new_x - x\n",
    "        diff_norm2 = diff @ diff\n",
    "        # to keep track of the evolution of the computation,\n",
    "        #    we might use a list: evolution.append( diff_norm2, x_new)\n",
    "        \n",
    "        if diff_norm2 < tol2: break\n",
    "        x = new_x / np.linalg.norm(new_x)\n",
    "\n",
    "        if i%10 ==0: print(x, diff @ diff)\n",
    "    else:\n",
    "        return None\n",
    "    \n",
    "    e = x @ new_x   # Rayleigh quotient eigenvalue estimate. Note np.linalg.norm(x) == 1\n",
    "    return e, new_x / np.linalg.norm(new_x)\n",
    "    \n",
    "with printoptions(formatter={'float': '{: 0.4f}'.format}):\n",
    "    eigenvalue,eigenvector = power_method( np.array( [1.2, 1., 1., 0., .7, .5, 0., 0., .1 ]).reshape((3,3)), np.array([.1,.2,.8]), tol=.2 )\n",
    "    print( 'Eigenvalue'); print('.  ', np.round(eigenvalue,4))\n",
    "    print( 'Eigenvector');print('.  ', eigenvector)"
   ]
  },
  {
   "cell_type": "markdown",
   "metadata": {
    "Collapsed": "false",
    "heading_collapsed": true
   },
   "source": [
    "# Itertools solution"
   ]
  },
  {
   "cell_type": "code",
   "execution_count": null,
   "metadata": {
    "Collapsed": "false",
    "code_folding": [
     0
    ],
    "hidden": true,
    "init_cell": true
   },
   "outputs": [],
   "source": [
    "# 'utility Stupid Itertools Tricks' https://github.com/joelgrus/stupid-itertools-tricks-pydata\n",
    "\n",
    "def tail(it):\n",
    "    '''drop 1st element'''\n",
    "    next(it)\n",
    "    return it\n",
    "\n",
    "def take(n, it):\n",
    "    ''' first n values from an it'''\n",
    "    return [x for x in islice(it, n)]\n",
    "\n",
    "def drop(n, it):\n",
    "    '''new sequence with all but first n values'''\n",
    "    return islice(it, n, None)\n",
    "\n",
    "def iterate(f, x):\n",
    "    \"\"\"return (x, f(x), f(f(x)), ...)\"\"\"\n",
    "    return accumulate(repeat(x), lambda fx, _: f(fx))\n",
    "\n",
    "def until_convergence(it):\n",
    "    \"\"\"returns elements of it until the same element appears twice in a row,\n",
    "    then stops\"\"\"\n",
    "    def no_repeat(prev, curr):\n",
    "        if prev == curr: raise StopIteration\n",
    "        else: return curr\n",
    "\n",
    "    return accumulate(it, no_repeat)\n",
    "\n",
    "def within_tolerance(tol, prev, curr):\n",
    "    if abs(prev - curr) < tol:\n",
    "        raise StopIteration\n",
    "    else:\n",
    "        return curr\n",
    "\n",
    "def until_nearly_converged(it, tolerance=0.001):\n",
    "      return accumulate(it, partial(within_tolerance, tolerance))"
   ]
  },
  {
   "cell_type": "markdown",
   "metadata": {
    "Collapsed": "false",
    "heading_collapsed": true,
    "hidden": true
   },
   "source": [
    "### Power Method functions"
   ]
  },
  {
   "cell_type": "code",
   "execution_count": null,
   "metadata": {
    "Collapsed": "false",
    "code_folding": [],
    "hidden": true
   },
   "outputs": [],
   "source": [
    "# define a set of problem specific functions to be used\n",
    "# Design Criterion: keep track of the evolution\n",
    "\n",
    "# Iteration function designed to be applied repetedly: step( A, step(A, x))\n",
    "def step( A, x ):\n",
    "    ''' return y = A x normalized to unit length for numerical stability'''\n",
    "    y = A @ x\n",
    "    e = np.linalg.norm(y)           # estimated eigenvalue\n",
    "    #eigenvalue =  x @ y            # Rayleigh coefficient: better estimate of the eigenvalue\n",
    "    #                               #    We don't have an iteration count; if we emit it here, the receiver will have to count...\n",
    "    return (y / e)                  # stabilize the iteration\n",
    "    \n",
    "# Convergence criterion\n",
    "def change2( x, y ):\n",
    "    ''' measure the change between two vectors ||x-y||^2'''\n",
    "    diff = x - y\n",
    "    return diff @ diff\n",
    "\n",
    "def check_convergence(c,y,tol):\n",
    "    '''given a change c of y from the previous vector x, return y unless c is sufficiently small\n",
    "       return y rather than (c,y) to enable calling `step( A, check_convergence(c,y,tol)`)\n",
    "    '''\n",
    "    if c < tol: raise StopIteration  # <- Exception needed to terminate execution in the pipeline\n",
    "    else:       return y\n",
    "\n",
    "def random_point( xmin,xmax,ymin,ymax, n=2):\n",
    "    '''get a random point within the specified extents'''\n",
    "    return np.array([np.random.uniform(xmin,xmax) for _ in range(n)])\n",
    "\n",
    "########################################################\n",
    "def tst_functions():\n",
    "    A=np.array( [1.2, 1., 1., 0., .7, .5, 0., 0., .1 ]).reshape((3,3))\n",
    "    print('A =');print(A)\n",
    "\n",
    "    v = random_point(-1.,1.,-1.,1.,n=3)\n",
    "    w = random_point(-1.,1.,-1.,1.,n=3)\n",
    "    print('\\ncheck point shape: ', v.shape)\n",
    "    print('check change       : ', change2(v, w))\n",
    "\n",
    "    print('\\nstep :           ', step( A, step( A, np.array([1.,1.,1.]))) )\n",
    "    print('\\nThis succeeds or fails with StopIteration')\n",
    "    try:\n",
    "        print('   **** within tolerance:', check_convergence( 1.,    w, 1.e-10))\n",
    "        print('   **** within_tolerance:', check_convergence( 1e-15, v, 1.e-10))\n",
    "    except StopIteration:\n",
    "        print('   **** StopIteration')\n",
    "        \n",
    "tst_functions()"
   ]
  },
  {
   "cell_type": "code",
   "execution_count": null,
   "metadata": {
    "Collapsed": "false",
    "code_folding": [],
    "hidden": true
   },
   "outputs": [],
   "source": [
    "# Implement the method: Curry the functions to remove constant problem specific arguments\n",
    "# Note we want to **make certain we return the LATEST iterate**\n",
    "\n",
    "# curry step, random point, and check_convergence\n",
    "stepA            = partial( step, np.array( [[1.2, 1., 1.], [0., .7, .5], [0., 0., .1] ]) )\n",
    "randomVec        = partial( random_point, xmin=-1,xmax=1,ymin=-1,ymax=1,n=3)\n",
    "checkConvergence = partial( check_convergence, tol= 1e-10)\n",
    "\n",
    "# implement a step with the curried functions:\n",
    "#     since we want to compute f(f(f...f(x)...)), we need to make sure inputs and outputs match!\n",
    "def nxt_step(c_x, step_func, check_func, change_func):\n",
    "    ''' given c_x=(cost,vector), check convergence, otherwise compute the next (cost,vector) pair'''\n",
    "    y = step_func( check_func(*c_x) )   # if the check_func fails, the computation stops and step_func is never executed\n",
    "    return (change_func(c_x[1],y), y)   # return the new  change,vector pair\n",
    "\n",
    "nxtStep = partial( nxt_step, step_func=stepA, check_func=checkConvergence, change_func=change2)"
   ]
  },
  {
   "cell_type": "markdown",
   "metadata": {
    "Collapsed": "false",
    "heading_collapsed": true,
    "hidden": true
   },
   "source": [
    "## Algorithm pipeline execution"
   ]
  },
  {
   "cell_type": "code",
   "execution_count": null,
   "metadata": {
    "Collapsed": "false",
    "code_folding": [
     0
    ],
    "hidden": true
   },
   "outputs": [],
   "source": [
    "# The pipeline\n",
    "# ------------------------------------------------------------------------------------------------\n",
    "# the algorithm:  starting with a random vector, iterate the nxtStep function up to 500 times\n",
    "# Note the result of all our work: the pipeline is generic, although the stopping criterion is not explicit:\n",
    "#     take(500, iterate(  nxtStep, (np.Inf,randomVec())) )\n",
    "\n",
    "with printoptions(formatter={'float': '{: 0.4f}'.format}):\n",
    "    print( 'POWER METHOD')\n",
    "    for c,x in drop(1, take(500, iterate(  nxtStep, (np.Inf,randomVec())) )):\n",
    "        print('%.4f'%c, x )"
   ]
  },
  {
   "cell_type": "code",
   "execution_count": null,
   "metadata": {
    "Collapsed": "false",
    "code_folding": [
     0
    ],
    "hidden": true
   },
   "outputs": [],
   "source": [
    "# Keep the iterates, finish by computing the eigenvalue\n",
    "l=take(500, iterate(  nxtStep, (np.Inf,randomVec())) )\n",
    "with printoptions(formatter={'float': '{: 0.4f}'.format}):\n",
    "    print('============= Final result ===============')\n",
    "    print( 'Eigenvector')\n",
    "    print('.  ', l[-1][1], 'Converged: ', len(l)< 500)\n",
    "    print('Eigenvalue Estimate: Oops, all the vectors are normalized to one, and we did not keep the matrix')\n",
    "    print('.  ', l[-1][1] @ np.array( [[1.2, 1., 1.], [0., .7, .5], [0., 0., .1] ]) @ l[-1][1])"
   ]
  },
  {
   "cell_type": "markdown",
   "metadata": {
    "Collapsed": "false",
    "hidden": true
   },
   "source": [
    "---\n",
    ">Summary: Unsatisfactory\n",
    "* pro: a reusable pipeline for an iterative algorithm\n",
    "* pro: maintains the evolution history of the algorithm\n",
    "* pro: could easily be modified to update a plot during computations useing hv streams\n",
    "* con: next_step function design requires carful thought to ensure it can be applied to itself\n",
    "* con: the stopping criterion is not explicit\n",
    "* con: changes such as keeping additional information (the eigenvalue estimate) requires rethinking the implementation\n",
    "* con: the problem specific inputs are no longer apparent unless we allow far more verbiage, making the code hard to read\n",
    "\n",
    "```python\n",
    "A=np.array([[12.,1.,-1.],[20.,2.,1.],[0.,0.,30.]])\n",
    "take(     500,\n",
    "iterate(  partial( nxt_step, step_func  = partial( step, A),\n",
    "                             check_func = partial( check_convergence, tol=1e-6),\n",
    "                             change_func= change2 ),\n",
    "          (np.Inf, randomVec())\n",
    "))\n",
    "```"
   ]
  },
  {
   "cell_type": "markdown",
   "metadata": {
    "Collapsed": "false",
    "hidden": true
   },
   "source": [
    "The problem arises due to the insistance that the stepA function can be iterated:\n",
    "a better decomposition of the algorithm iterates\n",
    "\n",
    "-- x -> STEP -- new_x, new_eigenvalue, ||new_x-x|| -> CHECK_CONVERGENCE -> CHECK_ITERATION_LIMIT -> OUTPUT -- x -> LOOP\n",
    "\n",
    "which invites branching (hard to do with itertools!)"
   ]
  },
  {
   "cell_type": "markdown",
   "metadata": {
    "Collapsed": "false",
    "heading_collapsed": true
   },
   "source": [
    "# Toolz Implementation"
   ]
  },
  {
   "cell_type": "markdown",
   "metadata": {
    "Collapsed": "false",
    "hidden": true
   },
   "source": [
    "https://toolz.readthedocs.io/en/latest/index.html\n",
    "\n",
    "toolz provides all the iterator tools we have defined, and more!\n",
    "As such, the solution looks very similar"
   ]
  },
  {
   "cell_type": "markdown",
   "metadata": {
    "Collapsed": "false"
   },
   "source": [
    "# Streamz: More complex pipelines with loops, feedback, etc..."
   ]
  },
  {
   "cell_type": "markdown",
   "metadata": {
    "Collapsed": "false"
   },
   "source": [
    "## Practice exercises"
   ]
  },
  {
   "cell_type": "code",
   "execution_count": null,
   "metadata": {
    "Collapsed": "false"
   },
   "outputs": [],
   "source": [
    "#just try something\n",
    "def incr(x): return x+1\n",
    "def pr(x):   print(x,end=', ')\n",
    "\n",
    "data = []\n",
    "\n",
    "# set up pipeline\n",
    "pipeline = sz.Stream()\n",
    "pipeline.map(incr).sliding_window(2).map(data.append).sink(pr)\n",
    "print('append returns None, starts seeing data with the second emit!')\n",
    "print('.  ',end='')\n",
    "for n in range(4): pipeline.emit(n)\n",
    "print()\n",
    "print('Overall, we accumulated',data)"
   ]
  },
  {
   "cell_type": "code",
   "execution_count": null,
   "metadata": {
    "Collapsed": "false"
   },
   "outputs": [],
   "source": [
    "# now construct a pipeline that feeds itself\n",
    "def looper(p,lmt=7):\n",
    "    def f(x):\n",
    "        a,b=x\n",
    "        if b < lmt: p.emit(b+1)\n",
    "        return x\n",
    "    return f\n",
    "\n",
    "data=[]\n",
    "pipeline = sz.Stream()\n",
    "pipeline.sliding_window(2).map(looper(pipeline,lmt=7)).sink(data.append) #.sink(pr);\n",
    "pipeline.emit(-1);pipeline.emit(0);\n",
    "print('The pipeline is recursive: first input is appended last!!!!!',end='\\n\\n')\n",
    "print(data)"
   ]
  },
  {
   "cell_type": "code",
   "execution_count": null,
   "metadata": {
    "Collapsed": "false"
   },
   "outputs": [],
   "source": [
    "pipeline.emit(15)\n",
    "print(data)\n",
    "print(pipeline.sink_to_list())"
   ]
  },
  {
   "cell_type": "markdown",
   "metadata": {
    "Collapsed": "false"
   },
   "source": [
    "## streamz version of the power method"
   ]
  },
  {
   "cell_type": "code",
   "execution_count": null,
   "metadata": {
    "Collapsed": "false",
    "code_folding": []
   },
   "outputs": [],
   "source": [
    "def power_method_step(A, x):\n",
    "    '''implements a single step of the power method\n",
    "    \n",
    "    Args:\n",
    "        A  : the np.array matrix\n",
    "        x  : the current np.array unit vector\n",
    "        \n",
    "    Returns\n",
    "        diff2, eigval_estimate, eigvec_estimate, where diff2 is the l2 norm of the change in the eigvec_estimate\n",
    "    '''\n",
    "    print('step', A, x)\n",
    "    new_x        = A @ x\n",
    "\n",
    "    normalized_x = new_x / np.linalg.norm(new_x)\n",
    "    diff         = normalized_x - x\n",
    "    \n",
    "    return diff @ diff, x @ new_x, normalized_x\n",
    "\n",
    "def check_convergence(cur, n_step, n_max, tol):\n",
    "    '''power method convergence\n",
    "    \n",
    "    Args:\n",
    "        n_step:  the current step number\n",
    "        cur:     current output of step(A, x)\n",
    "        tol:     tolerance\n",
    "        n_max:   maximum number of steps\n",
    "        \n",
    "    Returns:\n",
    "        1 if converged, -1 if too many steps, 0 otherwise\n",
    "    '''\n",
    "    print('conv_checker',cur)\n",
    "    return 1 if cur[0] < tol else -1 if n_step >= n_max else 0\n",
    "\n",
    "# ============================================================\n",
    "# curry the functions and build the pipeline\n",
    "\n",
    "def make_convergence_checker(n_max,tol):\n",
    "    '''don't like this: need a local variable!\n",
    "    We should be able to use an accumulator\n",
    "    with state = current exe count!\n",
    "    '''\n",
    "    def checkConvergence( cur ):\n",
    "        checkConvergence.cur_step += 1\n",
    "        return cur,check_convergence(cur, checkConvergence.cur_step, n_max, tol)\n",
    "\n",
    "    checkConvergence.cur_step = 0\n",
    "    return checkConvergence\n",
    "# ---------------------------------------------\n",
    "def make_plot(hv_stream):\n",
    "    '''don't like this: need a local variable!\n",
    "    We should be able to use an accumulator\n",
    "    with state = current exe count!\n",
    "    '''\n",
    "    def send( cur ):\n",
    "        print('plot_stream')\n",
    "        send.cur_step += 1\n",
    "        hv_stream.send( pd.DataFrame([(send.cur_step, cur[1], np.sqrt( np.abs(cur[0])))], columns=['iteration', 'eigenvalue', 'diff']) )\n",
    "\n",
    "    send.cur_step = 0\n",
    "    return send\n",
    "# ---------------------------------------------\n",
    "def loop(cur_cnv, pipeline):\n",
    "    print('loop', cur_cnv)\n",
    "    if cur_cnv[1] == 0: pipeline.emit(cur_cnv[0])\n",
    "# ---------------------------------------------\n",
    "def save_result(cur, state):\n",
    "    '''accumulate intermediate results and pass through: better implemented with a sink in the pipeline'''\n",
    "    state.append(cur)\n",
    "    return cur\n",
    "\n",
    "# ===========================================================\n",
    "# curried functions and pipeline:\n",
    "pipeline = sz.Stream()\n",
    "\n",
    "def makeStep(A):\n",
    "    def step(x):\n",
    "        return step.A @ x\n",
    "    step.A=A\n",
    "    return step\n",
    "\n",
    "stepA = makeStep(np.array([[12., 1., -1.],\n",
    "                           [20., 2.,  1.],\n",
    "                           [ 0., 0., 30.]]))\n",
    "\n",
    "\n",
    "# stepA    = partial( step,\n",
    "#                     np.array([[12., 1., -1.],\n",
    "#                               [20., 2.,  1.],\n",
    "#                               [ 0., 0., 30.]]))\n",
    "\n",
    "evolution = []\n",
    "checkConv = make_convergence_checker( 500, 1e-8 )\n",
    "untilDone = partial( loop, pipeline=pipeline )\n",
    "\n",
    "eigenvalue_stream,eigenvalue_dmap = eigenvalue_plot()\n",
    "\n",
    "# PIPELINE construction --------------#  eigenvector estimate ->\n",
    "p_step = pipeline.map(stepA)          #  ||diff||_2, eigenvalue_estimate, eigenvector_estimate  ->\n",
    "p_step.sink( evolution.append )       #              emit eigenvalue_estimate, accumulate values\n",
    "p_step.sink( make_plot( eigenvalue_stream ))\n",
    "p_step.map(checkConv).rate_limit(0.50).sink(untilDone) #  (||diff||_2, eigenvalue_estimate, eigenvector_estimate), cnv indicator -> None\n",
    "\n",
    "display(pipeline.visualize(source_node=True, rankdir=\"LR\"))         # not too useful with curried functions!\n",
    "\n",
    "eigenvalue_dmap.options( {'Curve': {'width':500, 'show_grid':True}, 'Curve.Change_in_the_Eigenvector':{'logy':True}})"
   ]
  },
  {
   "cell_type": "code",
   "execution_count": null,
   "metadata": {
    "Collapsed": "false"
   },
   "outputs": [],
   "source": [
    "eigenvalue_stream.clear()\n",
    "\n",
    "pipeline.emit(np.random.normal(size=3));"
   ]
  },
  {
   "cell_type": "code",
   "execution_count": null,
   "metadata": {
    "Collapsed": "false"
   },
   "outputs": [],
   "source": [
    "for e in evolution:\n",
    "    print('diff = %.4f, e_est = %10.4f' % (e[0], e[1]), end='  e_vec =' )\n",
    "    with printoptions(formatter={'float': '{: 0.4f}'.format}):\n",
    "          print(e[2])\n"
   ]
  },
  {
   "cell_type": "markdown",
   "metadata": {
    "Collapsed": "false"
   },
   "source": [
    "> Much easier to handle then itertools\n",
    "* need to figure out accumulate to get a step counter\n",
    "* need to figure out argument passing options to keep better track of what goes where\n",
    "* need to figure out a good way to name functions so pipeline.visualize makes more sense..."
   ]
  },
  {
   "cell_type": "markdown",
   "metadata": {
    "Collapsed": "false"
   },
   "source": [
    "## Start Over"
   ]
  },
  {
   "cell_type": "code",
   "execution_count": null,
   "metadata": {
    "Collapsed": "false"
   },
   "outputs": [],
   "source": [
    "def power_method_step(A, x):\n",
    "    '''implements a single step of the power method\n",
    "    \n",
    "    Args:\n",
    "        A  : the np.array matrix\n",
    "        x  : the current np.array unit vector\n",
    "        \n",
    "    Returns\n",
    "        diff2, eigval_estimate, eigvec_estimate, where diff2 is the l2 norm of the change in the eigvec_estimate\n",
    "    '''\n",
    "    #print('power_method_step'); print( A ); print( x )\n",
    "    new_x        = A @ x\n",
    "\n",
    "    normalized_x = new_x / np.linalg.norm(new_x)\n",
    "    diff         = normalized_x - x\n",
    "    \n",
    "    return {'diff2': diff @ diff, 'e_val': x @ new_x, 'e_vec' : normalized_x }\n",
    "\n",
    "def power_method_convergence_check(diff, n_step, n_max, tol):\n",
    "    '''power method convergence\n",
    "    \n",
    "    Args:\n",
    "        n_step:  the current step number\n",
    "        diff:    convergence estimate\n",
    "        tol:     tolerance\n",
    "        n_max:   maximum number of steps\n",
    "        \n",
    "    Returns:\n",
    "        1 if converged, -1 if too many steps, 0 otherwise\n",
    "    '''\n",
    "    print('power_method_convergence_check',cur)\n",
    "    return 1 if diff < tol else -1 if n_step >= n_max else 0"
   ]
  },
  {
   "cell_type": "code",
   "execution_count": null,
   "metadata": {
    "Collapsed": "false",
    "code_folding": []
   },
   "outputs": [],
   "source": [
    "# Build the pipeline: 1) insert a step counter\n",
    "\n",
    "# # a decorator to unpack the args\n",
    "# def unpack_args(func):\n",
    "#     ''' unpack function args decorator\n",
    "    \n",
    "#     Example:\n",
    "#         @unpack_args\n",
    "#         def foo(a,b): return a+b\n",
    "\n",
    "#         foo( (1,2) ) # returns 3\n",
    "#     '''\n",
    "#     def f(a):\n",
    "#         return func(*a)\n",
    "#     return f\n",
    "\n",
    "# a running count:\n",
    "def counter( state, nxt):\n",
    "    state += 1\n",
    "    #return state,(state,*nxt)\n",
    "    return state,(state,nxt)\n",
    "\n",
    "pipeline = sz.Stream()\n",
    "\n",
    "pipeline.accumulate( counter, returns_state=True, start=0).sink(print)\n",
    "\n",
    "display(pipeline.visualize(source_node=True, rankdir=\"LR\"))\n",
    "\n",
    "for _ in range(5):\n",
    "    pipeline.emit({'aha':(1,2)})\n",
    "pipeline.emit((7,8));"
   ]
  },
  {
   "cell_type": "code",
   "execution_count": null,
   "metadata": {
    "Collapsed": "false"
   },
   "outputs": [],
   "source": [
    "# Step2: run a power method step, add a step count\n",
    "\n",
    "foo=np.array([1.,2.,3.])\n",
    "A = np.array([[12., 1., -1.],\n",
    "              [20., 2.,  1.],\n",
    "              [ 0., 0., 30.]])\n",
    "\n",
    "def makeStep(A):\n",
    "    '''this is faster! and lets me reassign A! and yields a sane function name!'''\n",
    "    def step(x):\n",
    "        return power_method_step( step.A, x )\n",
    "    step.A=A\n",
    "    return step\n",
    "\n",
    "# --------------------------------------------------\n",
    "def counter( state, nxt):\n",
    "    state += 1\n",
    "\n",
    "    nxt['step_n'] = state\n",
    "    return state,nxt\n",
    "\n",
    "# --------------------------------------------------\n",
    "def saveResults():\n",
    "    def save(res):\n",
    "        save.results.append( res )\n",
    "    save.results=[]\n",
    "    return save\n",
    "\n",
    "# ====================================================================================\n",
    "pipeline = sz.Stream()\n",
    "before_sink = pipeline.map( makeStep(A) )\\\n",
    "                      .accumulate( counter, returns_state=True, start=0)\n",
    "#results  = [];   before_sink.sink( results.append)\n",
    "save = saveResults()\n",
    "before_sink.sink( save)\n",
    "before_sink.sink(print)\n",
    "\n",
    "\n",
    "display(pipeline.visualize(source_node=True, rankdir=\"LR\"))\n",
    "print( 'Sink Print output')\n",
    "for i in range(3):\n",
    "    pipeline.emit(np.array([1.+float(i),1.,2.]));\n",
    "print( 'Sink Result List')\n",
    "for res in save.results:\n",
    "    print(res)\n",
    "    \n",
    "print('Caller loop back')\n",
    "save.results=[]; before_sink.state=0\n",
    "# This shows the power algorithm in operation:\n",
    "#      No convergence test, run a fixed number of steps and accumulate the results\n",
    "\n",
    "pipeline.emit(np.array([1.,1.,1.]));\n",
    "for _ in range(20):\n",
    "    pipeline.emit( save.results[-1]['e_vec'])\n",
    "    \n",
    "hv.Curve( ([ x['step_n'] for x in save.results], [x['e_val'] for x in save.results]))"
   ]
  },
  {
   "cell_type": "code",
   "execution_count": null,
   "metadata": {
    "Collapsed": "false",
    "code_folding": []
   },
   "outputs": [],
   "source": [
    "# insert a convergence criterion\n",
    "\n",
    "def check_convergence(diff2, n_step, n_max, tol2):\n",
    "    '''power method convergence\n",
    "    \n",
    "    Args:\n",
    "        n_step:  the current step number\n",
    "        cur:     current output of step(A, x)\n",
    "        tol:     tolerance\n",
    "        n_max:   maximum number of steps\n",
    "        \n",
    "    Returns:\n",
    "        1 if converged, -1 if too many steps, 0 otherwise\n",
    "    '''\n",
    "    #print( 'diff2', diff2, ', cnv?', diff2<tol2, '; n_step', n_step,' < ', n_max)\n",
    "    return 1 if diff2 < tol2 else -1 if n_step >= n_max else 0\n",
    "\n",
    "def has_converged(n_max, tol):\n",
    "    def checkConvergence(cur):\n",
    "        cur['cnv_flag'] = check_convergence( cur['diff2'], cur['step_n'], checkConvergence.n_max, checkConvergence.tol2 )\n",
    "        return cur\n",
    "\n",
    "    checkConvergence.tol2  = tol*tol\n",
    "    checkConvergence.n_max = n_max\n",
    "    return checkConvergence\n",
    "\n",
    "\n",
    "pipeline = sz.Stream()\n",
    "before_sink = pipeline.map( makeStep(A) )\\\n",
    "                      .accumulate( counter, returns_state=True, start=0)\\\n",
    "                      .map( has_converged( 3, 1e-22))\n",
    "\n",
    "save = saveResults(); before_sink.sink( save)\n",
    "before_sink.sink(print)\n",
    "\n",
    "\n",
    "display(pipeline.visualize(source_node=True, rankdir=\"LR\"))\n",
    "\n",
    "pipeline.emit(np.array([1.,2.,1.]));"
   ]
  },
  {
   "cell_type": "code",
   "execution_count": null,
   "metadata": {
    "Collapsed": "false"
   },
   "outputs": [],
   "source": [
    "# step, add stepcount, check convergence, loop back and print\n",
    "def loopback_ntimes(n, pipeline):\n",
    "    def loop( res_dict ):\n",
    "        if loop.n > res_dict['step_n'] and res_dict['cnv_flag'] == 0:\n",
    "            #print( 'LOOP ', res_dict['step_n'], end=' ')\n",
    "            loop.p.emit(res_dict['e_vec'])\n",
    "        return res_dict\n",
    "    loop.n = n\n",
    "    loop.p = pipeline\n",
    "    return loop\n",
    "\n",
    "def show_ppresults(x):\n",
    "    with printoptions(formatter={'float': '{: 0.4f}'.format}):\n",
    "        print( '%5d:  e %10.4f  '%(x['step_n'], x['e_val']), '  v ',  x['e_vec'], '  diff2', '%12.6g'%x['diff2'] )\n",
    "\n",
    "# --------------------------------------------------------\n",
    "# build the new pipeline\n",
    "\n",
    "pipeline = sz.Stream(loop=None)\n",
    "pm_out   = pipeline.map(makeStep(A))\\\n",
    "              .accumulate( counter, returns_state=True, start=0)\\\n",
    "              .map(has_converged(50,1e-8))\n",
    "pm_out.sink(loopback_ntimes(50,pipeline))\n",
    "pm_out.sink(show_ppresults)\n",
    "#foo.sink(lambda x: print( 'e %10.4f  '%x['e_val'], '  v ', x['e_vec'].round(4), 'd', x['diff2'], x['step_n']))\n",
    "\n",
    "\n",
    "\n",
    "display(pipeline.visualize(source_node=True, rankdir=\"LR\"))\n",
    "\n",
    "pipeline.emit(np.random.uniform(size=3));\n",
    "\n",
    "# Puzzle: why does the lambda print function print values in reverse order?"
   ]
  },
  {
   "cell_type": "code",
   "execution_count": null,
   "metadata": {
    "Collapsed": "false"
   },
   "outputs": [],
   "source": [
    "# Finally, add a ratelimiter and a hv Stream to display the evolution\n",
    "\n",
    "eigenvalue_stream, dmap = eigenvalue_plot()\n",
    "def to_Hv(x):\n",
    "    eigenvalue_stream.send( pd.DataFrame({'iteration':[x['step_n']], 'eigenvalue': [x['e_val']], 'diff':[x['diff2']]},\n",
    "                                         columns=['iteration', 'eigenvalue','diff']) )\n",
    "\n",
    "\n",
    "pipeline = sz.Stream(loop=None)\n",
    "pm_out   = pipeline.map(makeStep(A))\\\n",
    "              .accumulate( counter, returns_state=True, start=0)\\\n",
    "              .map(has_converged(50,1e-8))\\\n",
    "              .rate_limit(0.5)\n",
    "pm_out.sink(loopback_ntimes(50,pipeline))\n",
    "pm_out.sink(show_ppresults)\n",
    "pm_out.sink(to_Hv)\n",
    "\n",
    "display(pipeline.visualize(source_node=True, rankdir=\"LR\"))\n",
    "dmap.options({'Curve':{'width':500, 'show_grid':True, 'logy':True}}).relabel('')"
   ]
  },
  {
   "cell_type": "code",
   "execution_count": null,
   "metadata": {
    "Collapsed": "false"
   },
   "outputs": [],
   "source": [
    "pipeline.emit( np.random.uniform(size=3));"
   ]
  },
  {
   "cell_type": "markdown",
   "metadata": {
    "Collapsed": "false"
   },
   "source": [
    "> Better, but:\n",
    "* data representation: move dictionaries or dataframes rather than tuples\n",
    "* package functions such that their stored data can be reset:\n",
    "    * to modify A, we need to set `step.A`\n",
    "    * to restart a computation, we need to reset the counter, clear the hv stream,...\n",
    "    * to change convergence criteria, we need checkConvergence.tol..."
   ]
  },
  {
   "cell_type": "markdown",
   "metadata": {
    "Collapsed": "false"
   },
   "source": [
    "# Stuff"
   ]
  },
  {
   "cell_type": "code",
   "execution_count": null,
   "metadata": {
    "Collapsed": "false"
   },
   "outputs": [],
   "source": [
    "def make_plot_with_stream():  \n",
    "    update_pipe = hv.streams.Pipe( data=None )\n",
    "\n",
    "    def plot( data ):\n",
    "        if data is None:\n",
    "            h = (hv.Text(0.5,0.5, 'x' ).options(text_alpha=1.)*\\\n",
    "                hv.Curve(([1,3,2]))).relabel('Data')\n",
    "        else:\n",
    "            h = (hv.Text(0.5,0.5, str(data)+'%' ).options(color='red',text_alpha=1.)*\\\n",
    "                hv.Curve([])).relabel(str(data)+'%')\n",
    "            \n",
    "        return h\n",
    "\n",
    "    h =\\\n",
    "    hv.DynamicMap( plot, streams=[update_pipe] )\n",
    "\n",
    "    return update_pipe, h\n",
    "\n",
    "update_pipe,h = make_plot_with_stream()\n",
    "h"
   ]
  },
  {
   "cell_type": "code",
   "execution_count": null,
   "metadata": {
    "Collapsed": "false"
   },
   "outputs": [],
   "source": [
    "import time\n",
    "for i in np.arange(0,101,20):\n",
    "    update_pipe.send(i)\n",
    "    time.sleep(.5)\n",
    "update_pipe.send(None)"
   ]
  },
  {
   "cell_type": "code",
   "execution_count": null,
   "metadata": {
    "Collapsed": "false"
   },
   "outputs": [],
   "source": [
    "update_pipe.data"
   ]
  },
  {
   "cell_type": "markdown",
   "metadata": {
    "Collapsed": "false"
   },
   "source": [
    "# Debug"
   ]
  },
  {
   "cell_type": "code",
   "execution_count": null,
   "metadata": {
    "Collapsed": "false"
   },
   "outputs": [],
   "source": [
    "pipeline = sz.Stream()\n",
    "data     = []\n",
    "\n",
    "def pr(x):\n",
    "    print(type(x))\n",
    "\n",
    "pipeline.map(data.append).sink(pr)\n",
    "for n in range(4):\n",
    "    pipeline.emit( np.array([1,2,3])+n)\n",
    "data"
   ]
  },
  {
   "cell_type": "code",
   "execution_count": null,
   "metadata": {
    "Collapsed": "false"
   },
   "outputs": [],
   "source": []
  }
 ],
 "metadata": {
  "kernelspec": {
   "display_name": "Python 3",
   "language": "python",
   "name": "python3"
  },
  "language_info": {
   "codemirror_mode": {
    "name": "ipython",
    "version": 3
   },
   "file_extension": ".py",
   "mimetype": "text/x-python",
   "name": "python",
   "nbconvert_exporter": "python",
   "pygments_lexer": "ipython3",
   "version": "3.7.5"
  },
  "latex_envs": {
   "LaTeX_envs_menu_present": true,
   "autoclose": false,
   "autocomplete": true,
   "bibliofile": "biblio.bib",
   "cite_by": "apalike",
   "current_citInitial": 1,
   "eqLabelWithNumbers": true,
   "eqNumInitial": 1,
   "hotkeys": {
    "equation": "Ctrl-E",
    "itemize": "Ctrl-I"
   },
   "labels_anchors": false,
   "latex_user_defs": false,
   "report_style_numbering": false,
   "user_envs_cfg": false
  },
  "varInspector": {
   "cols": {
    "lenName": 16,
    "lenType": 16,
    "lenVar": 40
   },
   "kernels_config": {
    "python": {
     "delete_cmd_postfix": "",
     "delete_cmd_prefix": "del ",
     "library": "var_list.py",
     "varRefreshCmd": "print(var_dic_list())"
    },
    "r": {
     "delete_cmd_postfix": ") ",
     "delete_cmd_prefix": "rm(",
     "library": "var_list.r",
     "varRefreshCmd": "cat(var_dic_list()) "
    }
   },
   "types_to_exclude": [
    "module",
    "function",
    "builtin_function_or_method",
    "instance",
    "_Feature"
   ],
   "window_display": false
  }
 },
 "nbformat": 4,
 "nbformat_minor": 4
}
