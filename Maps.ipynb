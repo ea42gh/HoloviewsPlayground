{
 "cells": [
  {
   "cell_type": "code",
   "execution_count": null,
   "metadata": {
    "hide_input": true,
    "init_cell": true,
    "run_control": {
     "marked": false
    }
   },
   "outputs": [],
   "source": [
    "import warnings\n",
    "warnings.filterwarnings('ignore')\n",
    "\n",
    "import matplotlib.pyplot as plt\n",
    "import seaborn as sns; sns.set_palette('colorblind'); sns.set_color_codes(); sns.set_style('white')\n",
    "plt.style.use('classic')\n",
    "\n",
    "import holoviews as hv\n",
    "hv.notebook_extension('bokeh', 'matplotlib')\n",
    "hv.plotting.mpl.MPLPlot.fig_alpha = 0   ## Bandaid: fix axisbg issue\n",
    "\n",
    "import param\n",
    "import paramnb\n",
    "\n",
    "import numpy as np\n",
    "import pandas as pd\n",
    "from time import sleep\n",
    "\n",
    "import xarray as xr\n",
    "import geoviews as gv\n",
    "import geoviews.feature as gf\n",
    "\n",
    "import cartopy\n",
    "from cartopy import crs as ccrs\n",
    "\n",
    "from bokeh.tile_providers import CARTODBPOSITRON, CARTODBPOSITRON_RETINA, STAMEN_TERRAIN, STAMEN_TONER_BACKGROUND, STAMEN_TONER_LABELS, STAMEN_TONER\n",
    "from bokeh.models import WMTSTileSource\n",
    "\n",
    "import scipy.stats as stats\n",
    "print('holoviews %s'% hv.__version__)"
   ]
  },
  {
   "cell_type": "markdown",
   "metadata": {
    "heading_collapsed": true
   },
   "source": [
    "##### Data Conversions"
   ]
  },
  {
   "cell_type": "markdown",
   "metadata": {
    "hidden": true
   },
   "source": [
    "* Plate carrée:  https://en.wikipedia.org/wiki/Equirectangular_projection\n",
    "* Mercator:      https://en.wikipedia.org/wiki/Mercator_projection\n",
    "\n",
    "Conversions are easily carried out with [https://github.com/SciTools/cartopy](cartopy)"
   ]
  },
  {
   "cell_type": "code",
   "execution_count": null,
   "metadata": {
    "hidden": true
   },
   "outputs": [],
   "source": [
    "lon=np.array([-97.70, -97.74, -97.78])\n",
    "lat=np.array([ 30.29,  30.20, 30.29])\n",
    "\n",
    "crs_m = ccrs.GOOGLE_MERCATOR\n",
    "df    = pd.DataFrame(crs_m.transform_points( ccrs.PlateCarree(), lon, lat ),\n",
    "                     columns=['x','y','h'])\n",
    "\n",
    "df['x_m'],df['y_m'],_ = ccrs.Mercator().transform_points( ccrs.PlateCarree(), lon, lat )\n",
    "df"
   ]
  },
  {
   "cell_type": "code",
   "execution_count": null,
   "metadata": {
    "hidden": true
   },
   "outputs": [],
   "source": [
    "extent = ( df['x'].min(), df['y'].min(), df['x'].max(), df['y'].max())\n",
    "print(extent)"
   ]
  },
  {
   "cell_type": "code",
   "execution_count": null,
   "metadata": {
    "hidden": true,
    "init_cell": true
   },
   "outputs": [],
   "source": [
    "def lonlat_corners_to_extents( btm_left, top_right, to=ccrs.GOOGLE_MERCATOR, src=ccrs.PlateCarree() ):\n",
    "    left,  bottom = to.transform_point(btm_left [0],btm_left [1],src)\n",
    "    right, top    = to.transform_point(top_right[0],top_right[1],src)\n",
    "    return (left, bottom, right, top )\n",
    "\n",
    "e=lonlat_corners_to_extents([-97.782,30.199],[-97.699,30.300])\n",
    "print(e)"
   ]
  },
  {
   "cell_type": "code",
   "execution_count": null,
   "metadata": {
    "collapsed": true,
    "hidden": true,
    "init_cell": true
   },
   "outputs": [],
   "source": [
    "def extent_from_center( center, dx, dy, to=ccrs.GOOGLE_MERCATOR ):\n",
    "    x,y = to.transform_point( center[0], center[1], ccrs.PlateCarree())\n",
    "    return ( x-dx, y-dy, x+dx,y+dy )"
   ]
  },
  {
   "cell_type": "markdown",
   "metadata": {
    "heading_collapsed": true
   },
   "source": [
    "##### Basic Maps"
   ]
  },
  {
   "cell_type": "code",
   "execution_count": null,
   "metadata": {
    "hidden": true
   },
   "outputs": [],
   "source": [
    "%%opts WMTS [width=350 height=250 xaxis=None yaxis=None show_grid=True]\n",
    "# -------------------------------------------------------------------------\n",
    "# tile sources   http://tile.stamen.com/terrain-background/zoom/{X}/{Y}.jpg\n",
    "tiles = {\n",
    "    'ESRI':         WMTSTileSource(url='https://server.arcgisonline.com/ArcGIS/rest/services/'\n",
    "                                       'World_Imagery/MapServer/tile/{Z}/{Y}/{X}.jpg'),\n",
    "    'ArcGIS':       WMTSTileSource(url='http://server.arcgisonline.com/ArcGIS/rest/services/'\n",
    "                                       'World_Street_Map/MapServer/tile/{Z}/{Y}/{X}.png' ),\n",
    "    'Wikipedia':    WMTSTileSource(url='https://maps.wikimedia.org/osm-intl/{Z}/{X}/{Y}@2x.png'),\n",
    "    'OpenMap':      WMTSTileSource(url='http://c.tile.openstreetmap.org/{Z}/{X}/{Y}.png')\n",
    "#    'HillShading':  WMTSTileSource(url='http://c.tiles.wmflabs.org/hillshading/{Z}/{Y}/{X}.png'),\n",
    "}\n",
    "tiles2 = {\n",
    "    'Stamen Toner':   STAMEN_TONER,\n",
    "    'Stamen Terrain': STAMEN_TERRAIN,\n",
    "    'CartoDB':        CARTODBPOSITRON\n",
    "}\n",
    "# -------------------------------------------------------------------------\n",
    "# To get a map without adding data, specify the extent and the crs\n",
    "# Note that the width and height of WMTS play a role in whether the map is wrapped around\n",
    "hv.NdLayout(\n",
    "    { name: gv.WMTS( wmts, extents=(0,-90,360,90), crs=ccrs.PlateCarree())\n",
    "            for name, wmts in tiles.items()}, kdims=['Source']).cols(2)\n"
   ]
  },
  {
   "cell_type": "markdown",
   "metadata": {
    "hidden": true
   },
   "source": [
    "> Use Mercator crs<br><br>\n",
    "computing and setting the extents results in <span style=\"color:red;\">puzzling behaviour</span>:\n",
    "*  switching between e1 and e2 in the example below results in a lesser zoom level\n",
    "  for e2, even though e2 covers a smaller geographical area within e1"
   ]
  },
  {
   "cell_type": "code",
   "execution_count": null,
   "metadata": {
    "hidden": true
   },
   "outputs": [],
   "source": [
    "%%opts WMTS [height=250 width=300 xaxis=None yaxis=None show_grid=True]\n",
    "# So only specify one dimension. Note zoom and pan works, as does reset\n",
    "# Use a Mercator projection\n",
    "\n",
    "# Austin, Texas\n",
    "e1=lonlat_corners_to_extents([-97.782,30.199],[-97.699,30.300], to=ccrs.GOOGLE_MERCATOR); print(\"e1 =\", e1)\n",
    "e2=lonlat_corners_to_extents([-97.772,30.199],[-97.699,30.300], to=ccrs.GOOGLE_MERCATOR); print(\"e2 =\", e2)\n",
    "# Setting extent=e1 shows parts of Mexico\n",
    "\n",
    "hv.NdLayout(\n",
    "    { name: gv.WMTS( wmts, extents=e2, crs=ccrs.GOOGLE_MERCATOR)\n",
    "            for name, wmts in tiles.items()}, kdims=['Source']).cols(2)"
   ]
  },
  {
   "cell_type": "markdown",
   "metadata": {
    "hidden": true
   },
   "source": [
    "> WMTS and extents<br><br>\n",
    "to be reliable, extents need to be computed\n",
    "*  <span style=\"color:red;\">AFTER</span> WMTS is instantiated,<br>\n",
    "*  <span style=\"color:red;\">USING</span> the crs of the WMTS instance ?!!"
   ]
  },
  {
   "cell_type": "code",
   "execution_count": null,
   "metadata": {
    "hidden": true
   },
   "outputs": [],
   "source": [
    "%%opts WMTS [height=250 width=300 xaxis=None yaxis=None shared_axes=False]\n",
    "\n",
    "gv_map1         = gv.WMTS( tiles['Wikipedia'])\n",
    "gv_map2         = gv.WMTS( tiles['Wikipedia'])\n",
    "\n",
    "gv_map1.extents = lonlat_corners_to_extents([-97.782,30.199],[-97.699,30.300], to=gv_map1.crs)\n",
    "gv_map2.extents = lonlat_corners_to_extents([-97.772,30.199],[-97.699,30.300], to=gv_map2.crs)\n",
    "print(\"e1 =\", gv_map1.extents)\n",
    "print(\"e2 =\", gv_map2.extents)\n",
    "\n",
    "gv_map1 + gv_map2"
   ]
  },
  {
   "cell_type": "markdown",
   "metadata": {
    "hidden": true
   },
   "source": [
    "> WMTS and extents<br><br>\n",
    "print the proj4 parameters for confirmation\n",
    "* Note that <span style='color:red;'>bokeh reset </span> does not work properly"
   ]
  },
  {
   "cell_type": "code",
   "execution_count": null,
   "metadata": {
    "hidden": true
   },
   "outputs": [],
   "source": [
    "%%opts WMTS [height=250 xaxis=None yaxis=None show_grid=True shared_axes=False]\n",
    "# So try with just one map\n",
    "# To be reliable, we need to ensure we use the same crs as the map\n",
    "#       or else assign the extents AFTER we define the map\n",
    "#       AND using the crs of the map\n",
    "# Note bokehs reset is confused about the extent\n",
    "\n",
    "gv_map1         = gv.WMTS( tiles['Wikipedia'])\n",
    "gv_map1.extents = lonlat_corners_to_extents([-97.775,30.265],[-97.770,30.270], to=gv_map1.crs)\n",
    "\n",
    "# Now let's try with an extent set ahead of time:\n",
    "e2 = lonlat_corners_to_extents([-97.775,30.265],[-97.770,30.270], to=ccrs.GOOGLE_MERCATOR)\n",
    "gv_map2         = gv.WMTS( tiles['Wikipedia'], extents=e2)\n",
    "\n",
    "print( \"Mercator proj \", ccrs.Mercator().proj4_params)\n",
    "print( \"map1 crs proj \", gv_map1.crs.proj4_params)\n",
    "print( \"map2 crs proj \", gv_map2.crs.proj4_params)\n",
    "print( 'map1.extents  ', gv_map1.extents)\n",
    "print( 'map2.extents  ', gv_map2.extents)\n",
    "gv_map1 + gv_map2"
   ]
  },
  {
   "cell_type": "markdown",
   "metadata": {
    "heading_collapsed": true
   },
   "source": [
    "##### Add data points"
   ]
  },
  {
   "cell_type": "markdown",
   "metadata": {
    "hidden": true
   },
   "source": [
    "> <span style='color:red;'>Strange behaviour and errors</span>\n",
    "* Markers such as marker='v' result in errors about orientation\n",
    "* Bokeh reset sets extents to tight bounds, rather than the original"
   ]
  },
  {
   "cell_type": "code",
   "execution_count": null,
   "metadata": {
    "hidden": true
   },
   "outputs": [],
   "source": [
    "%%opts WMTS [height=250 xaxis=None yaxis=None show_grid=True]\n",
    "%%opts Scatter( color='magenta'   size=8)\n",
    "%%opts Points ( color='darkgreen' size=15 marker='d')\n",
    "\n",
    "# This time, we do not define an extent, but we provide points instead\n",
    "# We get a map area that includes the points\n",
    "#    but bokeh reset will provide tight bounds\n",
    "# Note: coordinate conversions require the crs of WMTS be used\n",
    "#    the results are inconsistent otherwise.\n",
    "\n",
    "lon           = np.array([-73.973599, -73.974557, -73.979744])\n",
    "lat           = np.array([ 40.779770,  40.783249,  40.781216])\n",
    "\n",
    "# ----------------------------------------------\n",
    "gv_map = gv.WMTS( tiles2['CartoDB'])\n",
    "# ----------------------------------------------\n",
    "if False:\n",
    "    # do the transformation ourselves\n",
    "    points    = gv_map.crs.transform_points( ccrs.PlateCarree(), lon, lat)\n",
    "    df_points = pd.DataFrame( points, columns=['x','y','h'])\n",
    "\n",
    "    h1 = hv.Points ( gv.Dataset( df_points, kdims=['x','y'], vdims=[]))\n",
    "    #h2 = hv.Scatter( gv.Dataset( df_points, kdims=['x'], vdims=['y']))\n",
    "else:\n",
    "    # let GeoViews handle the transformation\n",
    "    h1 = gv.Points((lon, lat), crs=ccrs.PlateCarree())\n",
    "\n",
    "gv_map*h1 #*h2"
   ]
  },
  {
   "cell_type": "code",
   "execution_count": null,
   "metadata": {
    "hidden": true
   },
   "outputs": [],
   "source": [
    "from geopy.geocoders import Nominatim\n",
    "geolocator = Nominatim()\n",
    "\n",
    "geolocator.reverse((lat[0], lon[0]))"
   ]
  },
  {
   "cell_type": "markdown",
   "metadata": {
    "hidden": true
   },
   "source": [
    "-----\n",
    "Set an extent as well as add some data points\n",
    "* Note this interacts with the WMTS width setting in a non-obvious way\n",
    "* Note <span style='color:red'>bokeh reset</span> is now confused in yet another way...."
   ]
  },
  {
   "cell_type": "code",
   "execution_count": null,
   "metadata": {
    "hidden": true
   },
   "outputs": [],
   "source": [
    "%%opts WMTS [width=300 xaxis=None yaxis=None show_grid=True]\n",
    "%%opts Scatter( color='magenta'   size=8)\n",
    "%%opts Points ( color='darkgreen' size=15 marker='d')\n",
    "\n",
    "lon           = np.array([-73.973599, -73.974557, -73.979744])\n",
    "lat           = np.array([ 40.779770,  40.783249,  40.781216])\n",
    "\n",
    "# ----------------------------------------------\n",
    "gv_map = gv.WMTS( tiles2['CartoDB'])\n",
    "gv_map.extents = extent_from_center( (-73.974, 40.780), 500., 800., to=gv_map.crs )\n",
    "# ----------------------------------------------\n",
    "\n",
    "h1 = gv.Points ((lon, lat), crs=ccrs.PlateCarree())\n",
    "#h2 = gv.Scatter(...) does not exist\n",
    "\n",
    "gv_map*h1"
   ]
  },
  {
   "cell_type": "code",
   "execution_count": null,
   "metadata": {
    "hidden": true
   },
   "outputs": [],
   "source": [
    "%%opts Overlay [width=600 height=300] \n",
    "%%opts Points (size=0.005 cmap='viridis') [tools=['hover'] size_index=2 color_index=2 xaxis=None yaxis=None]\n",
    "\n",
    "cities = pd.read_csv('./assets/cities.csv', encoding=\"ISO-8859-1\")\n",
    "population = gv.Dataset(cities, kdims=['City', 'Country', 'Year'])\n",
    "print(cities.tail(3))\n",
    "\n",
    "(gv.WMTS(tiles['Wikipedia']) *\\\n",
    "population.to(gv.Points, kdims=['Longitude', 'Latitude'],\n",
    "              vdims=['Population', 'City', 'Country'], crs=ccrs.PlateCarree()))"
   ]
  },
  {
   "cell_type": "markdown",
   "metadata": {
    "heading_collapsed": true
   },
   "source": [
    "##### Paths"
   ]
  },
  {
   "cell_type": "code",
   "execution_count": null,
   "metadata": {
    "hidden": true
   },
   "outputs": [],
   "source": [
    "%%opts Overlay [width=300 height=200 xaxis=None yaxis=None]\n",
    "# Great Circle and PlateCarre path\n",
    "#  since the crs for gv.feature is plate carree,\n",
    "#  should the red path not render as a straight line?\n",
    "\n",
    "src_dst = [[(132,-0.08), (43.17, 51.53)]]\n",
    "gv.feature.land * gv.feature.borders * gv.feature.coastline *\\\n",
    "gv.Path(src_dst, crs=ccrs.Geodetic()) *\\\n",
    "gv.Path(src_dst, crs=ccrs.PlateCarree())"
   ]
  },
  {
   "cell_type": "code",
   "execution_count": null,
   "metadata": {
    "hidden": true
   },
   "outputs": [],
   "source": [
    "%%opts WMTS [width=250 xaxis=None yaxis=None show_grid=True]\n",
    "%%opts Scatter( color='magenta'   size=8)\n",
    "%%opts Points ( color='darkgreen' size=15 marker='d')\n",
    "\n",
    "# Philipp Rudiger's code to subsample the great circle path\n",
    "import pyproj\n",
    "\n",
    "def get_circle_path(start, end, sampling=10000):\n",
    "    sx, sy = start\n",
    "    ex, ey = end\n",
    "    g = pyproj.Geod(ellps='WGS84')\n",
    "    (az12, az21, dist) = g.inv(sx, sy, ex, ey)\n",
    "    lonlats = g.npts(sx, sy, ex, ey, 1+int(dist/sampling))\n",
    "    print('dist =',dist)\n",
    "    lonlats.insert(0,start)\n",
    "    lonlats.append(end)\n",
    "    return lonlats\n",
    "\n",
    "# ----------------------------------------------\n",
    "gv_map = gv.WMTS( tiles2['CartoDB'])\n",
    "# ----------------------------------------------\n",
    "\n",
    "# Great Circle\n",
    "src_dst = [[(132,-0.08), (43.17, 51.53)]]\n",
    "pts = get_circle_path( src_dst[0][0], src_dst[0][1], sampling=12000)\n",
    "\n",
    "gv_map *\\\n",
    "gv.Path([pts],   crs=ccrs.PlateCarree()) *\\\n",
    "gv.Path(src_dst, crs=ccrs.PlateCarree())"
   ]
  },
  {
   "cell_type": "markdown",
   "metadata": {
    "heading_collapsed": true
   },
   "source": [
    "##### Choropleths"
   ]
  },
  {
   "cell_type": "code",
   "execution_count": null,
   "metadata": {
    "hidden": true
   },
   "outputs": [],
   "source": [
    "%%opts Shape [xaxis=None yaxis=None]\n",
    "shapefile = './assets/boundaries/boundaries.shp'\n",
    "gv.Shape.from_shapefile(shapefile, crs=ccrs.PlateCarree())"
   ]
  },
  {
   "cell_type": "code",
   "execution_count": null,
   "metadata": {
    "hidden": true
   },
   "outputs": [],
   "source": [
    "shapes = cartopy.io.shapereader.Reader(shapefile)\n",
    "referendum = pd.read_csv('./assets/referendum.csv')\n",
    "referendum = hv.Dataset(referendum)\n",
    "referendum.data.tail(3)"
   ]
  },
  {
   "cell_type": "code",
   "execution_count": null,
   "metadata": {
    "hidden": true
   },
   "outputs": [],
   "source": [
    "%%opts Shape (cmap='viridis') [tools=['hover'] width=450 height=600 colorbar=True toolbar='above' xaxis=None yaxis=None]\n",
    "gv.Shape.from_records(shapes.records(), referendum, on='code', value='leaveVoteshare',\n",
    "                      index='name', crs=ccrs.PlateCarree(), group='EU Referendum', drop_missing=True).redim(name='County', leaveVoteshare='Leave Vote %')"
   ]
  },
  {
   "cell_type": "markdown",
   "metadata": {
    "heading_collapsed": true
   },
   "source": [
    "##### Image Overlay <span style='color:red;'> TODO FIX</span>"
   ]
  },
  {
   "cell_type": "code",
   "execution_count": null,
   "metadata": {
    "hidden": true
   },
   "outputs": [],
   "source": [
    "%%opts Image [colorbar=True fig_size=200] (cmap='viridis')\n",
    "\n",
    "# xarray cannot read my local copy of ensemble.nc???\n",
    "#import h5py\n",
    "#ensemble = xr.DataArray(h5py.File('./sample-data/ensemble.nc','r'))\n",
    "ensemble = xr.open_dataset('sample-data/ensemble.nc')\n",
    "\n",
    "kdims = ['time', 'longitude', 'latitude']\n",
    "vdims = ['surface_temperature']\n",
    "\n",
    "dataset = gv.Dataset(ensemble, kdims=kdims, crs=ccrs.PlateCarree())\n",
    "dataset.to(gv.Image, ['longitude', 'latitude'], ['surface_temperature'], ['time']) * gf.coastline()"
   ]
  }
 ],
 "metadata": {
  "kernelspec": {
   "display_name": "Python 3",
   "language": "python",
   "name": "python3"
  },
  "language_info": {
   "codemirror_mode": {
    "name": "ipython",
    "version": 3
   },
   "file_extension": ".py",
   "mimetype": "text/x-python",
   "name": "python",
   "nbconvert_exporter": "python",
   "pygments_lexer": "ipython3",
   "version": "3.5.3"
  },
  "latex_envs": {
   "LaTeX_envs_menu_present": true,
   "autocomplete": true,
   "bibliofile": "biblio.bib",
   "cite_by": "apalike",
   "current_citInitial": 1,
   "eqLabelWithNumbers": true,
   "eqNumInitial": 1,
   "hotkeys": {
    "equation": "Ctrl-E",
    "itemize": "Ctrl-I"
   },
   "labels_anchors": false,
   "latex_user_defs": false,
   "report_style_numbering": false,
   "user_envs_cfg": false
  }
 },
 "nbformat": 4,
 "nbformat_minor": 2
}
