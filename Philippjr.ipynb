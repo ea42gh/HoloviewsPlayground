{
 "cells": [
  {
   "cell_type": "markdown",
   "metadata": {},
   "source": [
    "# setup"
   ]
  },
  {
   "cell_type": "code",
   "execution_count": null,
   "metadata": {},
   "outputs": [],
   "source": [
    "import numpy as np\n",
    "import pandas as pd\n",
    "import holoviews as hv\n",
    "hv.extension('bokeh','matplotlib')"
   ]
  },
  {
   "cell_type": "code",
   "execution_count": null,
   "metadata": {},
   "outputs": [],
   "source": [
    "%%output backend='matplotlib'\n",
    "%opts Overlay [legend_position='bottom']\n",
    "%opts Points.R (color='r') Points.XY (color='blue') Points.XZ (color='green' size=5)"
   ]
  },
  {
   "cell_type": "code",
   "execution_count": null,
   "metadata": {},
   "outputs": [],
   "source": [
    "%%output backend='bokeh'\n",
    "%opts Overlay [legend_position='bottom']\n",
    "%opts Points.R (color='r') Points.XY (color='blue') Points.XZ (color='green' size=5)"
   ]
  },
  {
   "cell_type": "code",
   "execution_count": null,
   "metadata": {},
   "outputs": [],
   "source": [
    "def mk_vector(): return np.random.normal(size=100)\n",
    "df = pd.DataFrame( dict( x = mk_vector(), y=mk_vector(), z=mk_vector()))\n",
    "for i in range(5): df[str(i)] = mk_vector()\n",
    "\n",
    "df.tail().round(2)"
   ]
  },
  {
   "cell_type": "markdown",
   "metadata": {
    "heading_collapsed": true
   },
   "source": [
    "# example 1"
   ]
  },
  {
   "cell_type": "code",
   "execution_count": null,
   "metadata": {
    "code_folding": [],
    "hidden": true
   },
   "outputs": [],
   "source": [
    "import logging\n",
    "\n",
    "def mk_view_1(use_z=True):\n",
    "    h = hv.Points( df, kdims=['x', 'y'], group='XY', label='xy')*\\\n",
    "        hv.Points( (mk_vector(),mk_vector()), group='R', label='random')\n",
    "    if use_z:\n",
    "        h = h*hv.Points(df, kdims=['x', 'z'], group='XZ', label='xz')\n",
    "        #logging.info('z')\n",
    "    return h\n",
    "\n",
    "# in the following, use_z is initialized to 0 - which python interprets as False\n",
    "dmap_1=hv.DynamicMap(mk_view_1, kdims=['use_z']).redim.values(use_z=[True,False])\n",
    "dmap_1"
   ]
  },
  {
   "cell_type": "code",
   "execution_count": null,
   "metadata": {
    "hidden": true
   },
   "outputs": [],
   "source": [
    "# This initializes use_z correctly, but changing the setting no longer works\n",
    "hv.HoloMap(dmap_1)"
   ]
  },
  {
   "cell_type": "code",
   "execution_count": null,
   "metadata": {
    "hidden": true
   },
   "outputs": [],
   "source": [
    "%%output backend='matplotlib'\n",
    "# in this example, use_z is initialized to 0, selector can be changed once, has no effect thereafter\n",
    "plt_dmap_1=hv.DynamicMap(mk_view_1, kdims=['use_z']).redim.values(use_z=[True,False])\n",
    "plt_dmap_1"
   ]
  },
  {
   "cell_type": "markdown",
   "metadata": {
    "heading_collapsed": true
   },
   "source": [
    "# example 2"
   ]
  },
  {
   "cell_type": "code",
   "execution_count": null,
   "metadata": {
    "hidden": true
   },
   "outputs": [],
   "source": [
    "%%opts Distribution {+framewise}\n",
    "\n",
    "def mk_view_2(i, use_z=True):\n",
    "    h = hv.Points( df, kdims=['x', 'y'], group='XY', label='xy')*\\\n",
    "        hv.Points( (mk_vector(),mk_vector()), group='R', label='random')\n",
    "    if use_z:\n",
    "        h = h*hv.Points(df, kdims=['x', 'z'], group='XZ', label='xz')\n",
    "        #logging.info('z')\n",
    "\n",
    "    return (h+hv.Distribution( df[str(i)])).relabel('CURRENT i=%d'%i)\n",
    "\n",
    "#use_z is correctly initialized to true, this example works as expected\n",
    "#However, the title returned by mk_view_2 stays fixed!\n",
    "dmap_2=hv.DynamicMap(mk_view_2, kdims=['i', 'use_z']).redim.values(i=np.arange(5), use_z=[True,False])\n",
    "dmap_2"
   ]
  },
  {
   "cell_type": "code",
   "execution_count": null,
   "metadata": {
    "hidden": true
   },
   "outputs": [],
   "source": [
    "%%opts Distribution {+framewise}\n",
    "# this fails: selectors do not work, trying to change i changes the use_z selector\n",
    "hv.HoloMap(dmap_2)"
   ]
  },
  {
   "cell_type": "code",
   "execution_count": null,
   "metadata": {
    "hidden": true
   },
   "outputs": [],
   "source": [
    "%%opts Distribution {+framewise}\n",
    "# this fails too:\n",
    "#  AttributeError: 'NoneType' object has no attribute 'clone'\n",
    "\n",
    "dmap_3=hv.DynamicMap(mk_view_2, kdims=['i', 'use_z']).redim.values(i=np.arange(5), use_z=[True,False])\n",
    "hv.HoloMap(dmap_3).collate()"
   ]
  },
  {
   "cell_type": "code",
   "execution_count": null,
   "metadata": {
    "hidden": true
   },
   "outputs": [],
   "source": [
    "%%output backend='matplotlib'\n",
    "\n",
    "# This produces an error:\n",
    "# Exception: Some Elements returned by the dynamic callback were not initialized correctly and could not be rendered.\n",
    "plt_dmap_2=hv.DynamicMap(mk_view_2, kdims=['i', 'use_z']).redim.values(i=np.arange(5), use_z=[True,False])\n",
    "plt_dmap_2"
   ]
  },
  {
   "cell_type": "markdown",
   "metadata": {
    "heading_collapsed": true
   },
   "source": [
    "# example 3"
   ]
  },
  {
   "cell_type": "code",
   "execution_count": null,
   "metadata": {
    "hidden": true
   },
   "outputs": [],
   "source": [
    "def mk_view_3(i,sigma,unused,use_z=True):\n",
    "    h=\\\n",
    "    hv.Points( df, kdims=['x', 'y'], group='XY', label='xy')*\\\n",
    "    hv.Points( (df['1'],sigma*df['2']),  group='R', label='random')*\\\n",
    "    hv.Points( df, kdims=[str(i),str(i)],group='XZ', label='diagonal')\n",
    "    if use_z:\n",
    "        h = h*hv.Points(df, kdims=['x', 'z'], group='XZ', label='xz')\n",
    "    return h\n",
    "dmap_3 = hv.DynamicMap( mk_view_3, kdims=['i','sigma','unused','use_z'])\\\n",
    "          .redim.values(i=np.arange(5),sigma=[2.,3.5,5.], unused=[3,4,5], use_z=[True,False])\n",
    "\n",
    "# this just produces a text representation:   :HoloMap   [i,sigma,unused,use_z]\n",
    "hv.HoloMap(dmap_3)"
   ]
  },
  {
   "cell_type": "code",
   "execution_count": null,
   "metadata": {
    "hidden": true
   },
   "outputs": [],
   "source": [
    "%%output backend='matplotlib'\n",
    "plt_dmap_3 = hv.DynamicMap( mk_view_3, kdims=['i','sigma','unused','use_z'])\\\n",
    "          .redim.values(i=np.arange(5),sigma=[2.,3.5,5.], unused=[3,4,5], use_z=[True,False])\n",
    "# this just produces a text representation:   :HoloMap   [i,sigma,unused,use_z]\n",
    "hv.HoloMap(plt_dmap_3)"
   ]
  },
  {
   "cell_type": "markdown",
   "metadata": {
    "heading_collapsed": true
   },
   "source": [
    "# example 4"
   ]
  },
  {
   "cell_type": "code",
   "execution_count": null,
   "metadata": {
    "hidden": true
   },
   "outputs": [],
   "source": [
    "%%opts Histogram Distribution [invert_axes=True] {+framewise}\n",
    "def mk_view_4(i,unused):\n",
    "    h=\\\n",
    "    hv.Histogram(np.histogram(df[str(i)],normed=True),label='hist')*\\\n",
    "    hv.Distribution( df[str(i)], group='XY', label='xy')\n",
    "    return h\n",
    "\n",
    "dmap_4 = hv.DynamicMap( mk_view_4, kdims=['i','unused'])\\\n",
    "          .redim.values(i=np.arange(5), unused=[3,4,5])\n",
    "\n",
    "if True:\n",
    "    dmap = dmap_4\n",
    "    # no legend for Distribution\n",
    "    # would be nice to be able to change hist alpha by clicking on hist legend\n",
    "else:\n",
    "    dmap = dmap_4 + hv.HoloMap(dmap_4)\n",
    "    # This does not work\n",
    "    # interestingly, this displays the plot without inverting axes,\n",
    "    # then redisplays it a little later in time with inverted axes\n",
    "dmap"
   ]
  },
  {
   "cell_type": "code",
   "execution_count": null,
   "metadata": {
    "hidden": true
   },
   "outputs": [],
   "source": [
    "# this displays, but the selector for i has no effect\n",
    "hv.HoloMap(dmap_4)"
   ]
  },
  {
   "cell_type": "code",
   "execution_count": null,
   "metadata": {
    "hidden": true
   },
   "outputs": [],
   "source": [
    "%%output backend='matplotlib'\n",
    "plt_dmap_4 = hv.DynamicMap( mk_view_4, kdims=['i','unused'])\\\n",
    "          .redim.values(i=np.arange(5), unused=[3,4,5])\n",
    "\n",
    "# plt_dmap_4 by itself works as expected\n",
    "#    but this layout does not\n",
    "plt_dmap_4 + hv.HoloMap(plt_dmap_4)"
   ]
  },
  {
   "cell_type": "markdown",
   "metadata": {
    "hidden": true
   },
   "source": [
    "I have a weird case with actual data I can't yet reproduce:\n",
    "> for one of the cases (i = 2), the inverted_axis=2 plot produces a vertical line,\n",
    "yet when called directly, I get the expected Histogram... I'll try and see about reducing the data to a minimum"
   ]
  },
  {
   "cell_type": "markdown",
   "metadata": {
    "heading_collapsed": true
   },
   "source": [
    "# example 5"
   ]
  },
  {
   "cell_type": "code",
   "execution_count": null,
   "metadata": {
    "hidden": true
   },
   "outputs": [],
   "source": [
    "%%opts Histogram Distribution [invert_axes=True width=200 yaxis=None] {+framewise}\n",
    "%%opts Path (color='indianred', line_width=4)\n",
    "%%opts DynamicMap [width=700]\n",
    "#      ^^^^^^^^^^             seems to be honored, but produces a warning\n",
    "def mk_view_5(i,unused):\n",
    "    points = \\\n",
    "        hv.Points( df, kdims=['x', 'y'], group='XY', label='xy') *\\\n",
    "        hv.Points( (mk_vector(),mk_vector()), group='R', label='random')\n",
    "    lines  = hv.Path([ [(-1, -1), (2,2), (-1,3), (3,-1), (3,2)] ],label='path')\n",
    "    #                                                             ^^^^^^^^^^^^  legend not honored\n",
    "    \n",
    "    hist = hv.Histogram(np.histogram(df[str(i)],normed=True))*\\\n",
    "           hv.Distribution( df[str(i)], group='XY')\n",
    "\n",
    "    return points*lines+hist\n",
    "    #return points << hist  # does not work by itself\n",
    "\n",
    "dmap_5 = hv.DynamicMap( mk_view_5, kdims=['i','unused'])\\\n",
    "          .redim.values(i=np.arange(5),unused=[0])\n",
    "dmap_5"
   ]
  },
  {
   "cell_type": "code",
   "execution_count": null,
   "metadata": {
    "hidden": true
   },
   "outputs": [],
   "source": [
    "%%output backend='matplotlib' size=100\n",
    "%%opts Histogram Distribution [invert_axes=True width=200 yaxis=None] {+framewise}\n",
    "%%opts Path (color='indianred', line_width=4)\n",
    "\n",
    "# with matplotlib, the smae graph works without any warnings!\n",
    "\n",
    "plt_dmap_5 = hv.DynamicMap( mk_view_5, kdims=['i','unused'])\\\n",
    "          .redim.values(i=np.arange(5),unused=[0])\n",
    "plt_dmap_5"
   ]
  },
  {
   "cell_type": "markdown",
   "metadata": {
    "heading_collapsed": true
   },
   "source": [
    "# example 6"
   ]
  },
  {
   "cell_type": "code",
   "execution_count": null,
   "metadata": {
    "hidden": true
   },
   "outputs": [],
   "source": [
    "%%opts Contours [width=800 colorbar=True colorbar_position='left']\n",
    "%%opts Image (cmap='Blues_r')\n",
    "vals=np.linspace(-10,10, 200); xx,yy=np.meshgrid(vals,vals)\n",
    "img=hv.Image(xx*yy)\n",
    "img*hv.operation.contours(img)\n",
    "# why did this generate legends?  hv.operation.contours(img) does not\n",
    "# why are the legends not clickable individually, why does clicking them have no effect?"
   ]
  },
  {
   "cell_type": "code",
   "execution_count": null,
   "metadata": {
    "hidden": true
   },
   "outputs": [],
   "source": [
    "%%output backend='matplotlib' size=200\n",
    "%%opts Contours [width=800 colorbar=True colorbar_position='left']\n",
    "%%opts Image (cmap='Blues_r')\n",
    "vals=np.linspace(-10,10, 200); xx,yy=np.meshgrid(vals,vals)\n",
    "img=hv.Image(xx*yy)\n",
    "img*hv.operation.contours(img)\n",
    "\n",
    "# no legends here, but the colorbar_position is not honored"
   ]
  },
  {
   "cell_type": "markdown",
   "metadata": {
    "heading_collapsed": true
   },
   "source": [
    "# example 7"
   ]
  },
  {
   "cell_type": "code",
   "execution_count": null,
   "metadata": {
    "hidden": true
   },
   "outputs": [],
   "source": [
    "# %%opts Points [width=500 tools=['hover']] (size=5 color=Cycle('Blues'))\n",
    "\n",
    "# cannot get points to honor the color!\n",
    "\n",
    "import seaborn as sns\n",
    "iris            = sns.load_dataset(\"iris\")\n",
    "iris['species'] = iris['species'].astype('category')\n",
    "\n",
    "def strip_plot(df,x,y,jitter=.2):\n",
    "    ticks = [(i,v) for i,v in enumerate(df[x].cat.categories)]\n",
    "    return hv.Points(np.array([df[x].cat.codes+np.random.uniform(-jitter,jitter,size=df.shape[0]), df[y], df[x].cat.codes.astype(float)]).T, kdims=[x,y])\\\n",
    "             .opts(plot=dict(xticks=ticks, color_index=x), style=dict(size=5,color=hv.Cycle('Blues')))\n",
    "\n",
    "strip_plot( iris, 'species', 'sepal_length').redim.range(species=(-.5,2.5),sepal_length=(4,8.5))"
   ]
  },
  {
   "cell_type": "code",
   "execution_count": null,
   "metadata": {
    "hidden": true
   },
   "outputs": [],
   "source": [
    "%%output backend='matplotlib' size=150\n",
    "\n",
    "def strip_plot(df,x,y,jitter=.2):\n",
    "    ticks = [(i,v) for i,v in enumerate(df[x].cat.categories)]\n",
    "    return hv.Points(np.array([df[x].cat.codes+np.random.uniform(-jitter,jitter,size=df.shape[0]), df[y], df[x].cat.codes.astype(float)]).T, kdims=[x,y])\\\n",
    "             .opts(plot=dict(xticks=ticks, color_index=x), style=dict(size=5,color=hv.Cycle('Blues')))\n",
    "\n",
    "strip_plot( iris, 'species', 'sepal_length').redim.range(species=(-.5,2.5),sepal_length=(4,8.5))\n",
    "\n",
    "# this seems to work apart from the color cycle selection"
   ]
  },
  {
   "cell_type": "code",
   "execution_count": null,
   "metadata": {
    "hidden": true
   },
   "outputs": [],
   "source": [
    "# BoxWhisker does not accept ticks lists: the x axis ticks are the cat.codes rather than the cat.names\n",
    "\n",
    "def boxwhisker_plot(df,x,y,jitter=.2):\n",
    "    ticks = [(i,v) for i,v in enumerate(df[x].cat.categories)]\n",
    "    return hv.BoxWhisker(np.array([df[x].cat.codes, df[y]]).T, x,y)\\\n",
    "             .opts(plot=dict(xticks=ticks))\n",
    "boxwhisker_plot( iris, 'species', 'sepal_length').redim.range(species=(-.5,2.5),sepal_length=(4,8.5))"
   ]
  },
  {
   "cell_type": "code",
   "execution_count": null,
   "metadata": {
    "hidden": true
   },
   "outputs": [],
   "source": [
    "%%output backend='matplotlib'\n",
    "\n",
    "def boxwhisker_plot(df,x,y,jitter=.2):\n",
    "    ticks = [(i,v) for i,v in enumerate(df[x].cat.categories)]\n",
    "    return hv.BoxWhisker(np.array([df[x].cat.codes, df[y]]).T, x,y)\\\n",
    "             .opts(plot=dict(xticks=ticks, color_index=x))\n",
    "boxwhisker_plot( iris, 'species', 'sepal_length').redim.range(species=(-.5,2.5),sepal_length=(4,8.5))\n",
    "\n",
    "# here, the x axis is messed up"
   ]
  },
  {
   "cell_type": "markdown",
   "metadata": {
    "heading_collapsed": true
   },
   "source": [
    "# example 8"
   ]
  },
  {
   "cell_type": "code",
   "execution_count": null,
   "metadata": {
    "hidden": true
   },
   "outputs": [],
   "source": [
    "%%opts Bivariate [bandwidth=0.5] (cmap='Blues') Points (s=4)\n",
    "from bokeh.sampledata.iris import flowers\n",
    "from holoviews.operation import gridmatrix\n",
    "\n",
    "if False:\n",
    "    #gridmatrix cannot handle categorical entries\n",
    "    flowers['species'] = flowers['species'].astype('category')\n",
    "elif False:\n",
    "    # yields: 'Image dimension petal_length is not evenly sampled, please use the QuadMesh' error message\n",
    "    flowers['species'] =100.* (flowers['species'].astype('category').cat.codes+1).astype(float)\n",
    "\n",
    "\n",
    "iris_ds = hv.Dataset(flowers)\n",
    "\n",
    "density_grid = gridmatrix(iris_ds, diagonal_type=hv.Distribution, chart_type=hv.Bivariate)\n",
    "point_grid   = gridmatrix(iris_ds, diagonal_type=hv.Distribution, chart_type=hv.Points   )\n",
    "point_grid   = point_grid.map(lambda x: hv.Overlay(), hv.Distribution)\n",
    "\n",
    "density_grid * point_grid"
   ]
  },
  {
   "cell_type": "markdown",
   "metadata": {
    "heading_collapsed": true
   },
   "source": [
    "# example 9"
   ]
  },
  {
   "cell_type": "code",
   "execution_count": null,
   "metadata": {
    "hidden": true
   },
   "outputs": [],
   "source": [
    "%%opts Overlay [width=100 height=100] Table [height=480 width=640]\n",
    "%%opts Points (color=Cycle(['#ff0000','#00ff00','#0000ff']))\n",
    "\n",
    "iris = flowers\n",
    "def gen_grid_func(df,v):\n",
    "    color_index = 'species'\n",
    "    cols        = [i for i in df.columns if i != v]\n",
    "    if False:\n",
    "        df = df.copy()\n",
    "        df['color'] = (df[v].astype('category').cat.codes+1).astype(float)\n",
    "        color_index='color'\n",
    "        # using color_index='color' below results in a 'singular matrix' error\n",
    "\n",
    "    N = df.shape[1]\n",
    "    def top(i,j):\n",
    "        #print(df.columns[i],df.columns[j])\n",
    "        h = \\\n",
    "        hv.Bivariate(df, kdims=[df.columns[i],df.columns[j]])*\\\n",
    "        hv.Points   (df, kdims=[df.columns[i],df.columns[j]]).opts(plot=dict(color_index=color_index))\n",
    "        return h\n",
    "    def diag(i):\n",
    "        s = df[v].unique()\n",
    "        h = hv.Overlay([ hv.Distribution( df[df['species']==j], df.columns[i]) for j in s])\n",
    "        return h\n",
    "    def btm(i,j):\n",
    "        h = \\\n",
    "        hv.Overlay([hv.Points   (df, kdims=[df.columns[i],df.columns[j]])])\n",
    "        return h\n",
    "\n",
    "    plots  = {(i,j): top(i,j) for i in range(N) for j in range(i+1,N) if df.columns[i] in cols and df.columns[j] in cols}\n",
    "    dplots = {(i,i): diag(i ) for i in range(N) if df.columns[i] != v }\n",
    "    bplots = {(i,j): btm(i,j) for i in range(N) for j in range(i) if df.columns[i] in cols and df.columns[j] in cols}\n",
    "\n",
    "    plots.update(dplots)\n",
    "    plots.update(bplots)\n",
    "    \n",
    "    return plots\n",
    "\n",
    "# GridMatrix does not honor xticks, yticks\n",
    "# can't figure out how to control point colors: should be the same as the colors of the distributions.\n",
    "#    point set 0 has alpha=0?\n",
    "# Want a legend for the species columns (ideally with mute_alpha in effect!)\n",
    "ticks = [i for i in iris.columns if i != 'species']\n",
    "h=\\\n",
    "hv.GridSpace(gen_grid_func(iris, 'species'), kdims=['measurement','measurement']).opts( plot=dict(xticks=ticks, yticks=ticks)).relabel('Measurements by species')\n",
    "h  + hv.Table(iris)  # why is the bokeh toolbar extending to the right beyond the table?"
   ]
  },
  {
   "cell_type": "markdown",
   "metadata": {
    "heading_collapsed": true
   },
   "source": [
    "# example 10"
   ]
  },
  {
   "cell_type": "code",
   "execution_count": null,
   "metadata": {
    "hidden": true
   },
   "outputs": [],
   "source": [
    "%%opts ErrorBars [invert_axes=True show_grid=True  width=600 height=200] (color='slateblue')\n",
    "%%opts Scatter   [invert_axes=True tools=['hover'] toolbar='above'] (color='slateblue' marker='+' size=10 line_width=3)\n",
    "%%opts Table     [height=180]\n",
    "df1 = pd.DataFrame( \n",
    "        {'mean'       : [2.0, 4.0, 6.0,   8.0 ],\n",
    "         'hpd_2.5'    : [0.0, 2.0, 4.0,   6.0 ],\n",
    "         'hpd_97.5'   : [3.0, 5.0, 7.0,   9.0 ],\n",
    "         'sd'         : [0.5, 0.5, 0.5,   0.5 ],}, index=['alpha', 'beta_0', 'beta_1', 'sigma']\n",
    ")\n",
    "\n",
    "from io import StringIO\n",
    "df2 = pd.read_csv(StringIO(\n",
    "''',mean,sd,mc_error,hpd_2.5,hpd_97.5\n",
    "alpha,  -14.4, 7.0, 0.2, -29.3, -0.6\n",
    "beta_0,   9.2, 2.5, 0.1,   4.4, 14.0\n",
    "beta_1, -11.5, 3.8, 0.2, -18.4, -4.1\n",
    "sigma,   -1.5, 2.1, 0.1,  -8.1,  3.1\n",
    "'''),index_col=0)\n",
    "\n",
    "    \n",
    "def forest_plot(df):\n",
    "    rng = (np.floor(df['hpd_2.5'].min()), np.ceil(df['hpd_97.5'].max()) )\n",
    "\n",
    "    e_u = df['hpd_97.5']- df['mean']\n",
    "    e_l = df['mean']   - df['hpd_2.5']\n",
    "\n",
    "    # Use invisible (i.e., alpha=0) markers to enable hover information\n",
    "    h = \\\n",
    "        hv.ErrorBars( [i for i in zip(df.index,  df['mean' ], e_l, e_u)],\n",
    "                    kdims=['parameter'], vdims=['value','e_l','e_u']).opts(style=dict(line_width=1) ) \\\n",
    "      * hv.ErrorBars( zip(df.index,  df['mean' ], df['sd' ] ),\n",
    "                    kdims=['parameter'], vdims=['value','sd' ]).opts(style=dict(line_width=5, lower_head=None, upper_head=None) ) \\\n",
    "      * hv.Scatter( zip(df.index,  df['mean'   ]) ) \\\n",
    "      * hv.Scatter( zip(df.index,  df['hpd_2.5']) ).opts(style=dict(alpha=0)) \\\n",
    "      * hv.Scatter( zip(df.index,  df['hpd_97.5']) ).opts(style=dict(alpha=0))\n",
    "\n",
    "    return h.redim.range(value=rng).relabel('95% Credible Intervals')\n",
    "\n",
    "(hv.Table(df1)+hv.Table(df2)+forest_plot(df1)+forest_plot(df2)).cols(2)\n",
    "# what happened to the Scatter plots for df2?"
   ]
  },
  {
   "cell_type": "code",
   "execution_count": null,
   "metadata": {
    "hidden": true
   },
   "outputs": [],
   "source": [
    "%%opts ErrorBars [invert_axes=False show_grid=True  width=600 height=200] (color='slateblue')\n",
    "%%opts Scatter   [tools=['hover'] toolbar='above'] (color='slateblue' marker='+' size=10 line_width=3)\n",
    "forest_plot(df1)+forest_plot(df2)\n",
    "# they do show up if invert_axes=False"
   ]
  },
  {
   "cell_type": "code",
   "execution_count": null,
   "metadata": {
    "hidden": true
   },
   "outputs": [],
   "source": [
    "%%output backend='matplotlib' size=150\n",
    "%%opts ErrorBars [invert_axes=True show_grid=True  width=600 height=200 ] (ecolor='slateblue' barsabove=True)\n",
    "%%opts Scatter   [tools=['hover'] toolbar='above'] (color='slateblue' marker='+' s=200 linewidth=5)\n",
    "\n",
    "def forest_plot(df):\n",
    "    rng = (np.floor(df['hpd_2.5'].min()), np.ceil(df['hpd_97.5'].max()) )\n",
    "\n",
    "    e_u = df['hpd_97.5']- df['mean']\n",
    "    e_l = df['mean']   - df['hpd_2.5']\n",
    "\n",
    "    # Use invisible (i.e., alpha=0) markers to enable hover information\n",
    "    h = \\\n",
    "        hv.ErrorBars( [i for i in zip(df.index,  df['mean' ], e_l, e_u)],\n",
    "                    kdims=['parameter'], vdims=['value','e_l','e_u']).opts(style=dict(elinewidth=3, capsize=4) ) \\\n",
    "      * hv.ErrorBars( zip(df.index,  df['mean' ], df['sd' ] ),\n",
    "                    kdims=['parameter'], vdims=['value','sd' ]).opts(style=dict(elinewidth=7) ) \\\n",
    "      * hv.Scatter( zip(df.index,  df['mean'   ]) ) \\\n",
    "      * hv.Scatter( zip(df.index,  df['hpd_2.5']) ).opts(style=dict(alpha=0)) \\\n",
    "      * hv.Scatter( zip(df.index,  df['hpd_97.5']) ).opts(style=dict(alpha=0))\n",
    "\n",
    "    return h.redim.range(value=rng).relabel('95% Credible Intervals')\n",
    "\n",
    "# they do show up in matplotlib, as well\n",
    "#     and grumble about the differences in option names....\n",
    "\n",
    "forest_plot(df1)+forest_plot(df2)"
   ]
  },
  {
   "cell_type": "markdown",
   "metadata": {
    "heading_collapsed": true
   },
   "source": [
    "# example 11"
   ]
  },
  {
   "cell_type": "code",
   "execution_count": null,
   "metadata": {
    "hidden": true
   },
   "outputs": [],
   "source": [
    "%%opts Overlay Div [width=380 height=180]\n",
    "%%opts HeatMap [colorbar=True colorbar_position='left'] (cmap='Blues')\n",
    "%%opts Text (color='lightgreen')\n",
    "\n",
    "import seaborn as sns\n",
    "iris = sns.load_dataset(\"iris\")\n",
    "\n",
    "corr = iris[iris['species'] != 'virginica'].corr().abs().round(2)\n",
    "vals   = np.linspace(1,4,4)\n",
    "m_corr = corr.as_matrix().copy()\n",
    "m_corr.T[np.triu_indices(4,1)]=np.NaN\n",
    "\n",
    "# Feature Request?  HeatMap enforces different dimension names: species/Species\n",
    "#                   HeatMap does not allow overriding xticks\n",
    "#                   Image does not allow overriding xticks either...\n",
    "\n",
    "#                   If I pass vals=corr.columns, hv.Text(1,2,'s') treats 1,2 as new classes\n",
    "#                                                hv.Text('petal_width','petal_width', 's) fails...\n",
    "\n",
    "img  = hv.HeatMap((vals,vals,m_corr.T[::-1]), ['species','Species']) .opts(plot=dict(xticks=corr.columns))\n",
    "img*hv.Overlay([hv.Text(i+1,j+1, '%.2f'%m_corr[i,3-j]) for j in range(4) for i in range(4-j)])+\\\n",
    "hv.Div( corr.to_html())"
   ]
  },
  {
   "cell_type": "code",
   "execution_count": null,
   "metadata": {
    "hidden": true
   },
   "outputs": [],
   "source": [
    "%%output backend='matplotlib'\n",
    "%%opts Overlay [width=350 height=200]\n",
    "%%opts HeatMap  (cmap='Blues')\n",
    "%%opts Text (color='lightgreen')\n",
    "img  = hv.HeatMap((vals,vals,m_corr.T[::-1]), ['species','Species'])  #.opts(plot=dict(xticks=corr.columns))\n",
    "img*hv.Overlay([hv.Text(i+1,j+1, '%.2f'%m_corr[i,3-j]) for j in range(4) for i in range(4-j)])\n",
    "# Hmmmmmmm"
   ]
  },
  {
   "cell_type": "code",
   "execution_count": null,
   "metadata": {
    "hidden": true
   },
   "outputs": [],
   "source": [
    "%%output backend='matplotlib'\n",
    "%%opts Overlay [width=350 height=200]\n",
    "%%opts HeatMap  (cmap='Blues')\n",
    "%%opts Text (color='lightgreen')\n",
    "hv.HeatMap((vals,vals,m_corr.T[::-1]), ['species','Species'])\n",
    "# Huh The txt overlay messed up the axes????"
   ]
  },
  {
   "cell_type": "code",
   "execution_count": null,
   "metadata": {
    "hidden": true
   },
   "outputs": [],
   "source": [
    "%%opts Overlay [width=350 height=200]\n",
    "%%opts HeatMap  (cmap='Blues')\n",
    "%%opts Text (color='lightgreen')\n",
    "hv.HeatMap(m_corr, ['species','Species'])\n",
    "# Huh????"
   ]
  },
  {
   "cell_type": "markdown",
   "metadata": {},
   "source": [
    "# example 12"
   ]
  },
  {
   "cell_type": "code",
   "execution_count": null,
   "metadata": {},
   "outputs": [],
   "source": [
    "%%opts Path (alpha=.5 color='black' line_dash='dotted')\n",
    "%%opts Path.AXIS (color='darkgreen' alpha=1 line_width=2 line_dash='solid')\n",
    "%%opts Scatter (size=5 alpha=.3) Scatter.A (color='blue') Scatter.B (alpha=0.6 color='indianred')\n",
    "%%opts Overlay [width=250 height=250]\n",
    "def apply_covariance_matrix_to_data(covx = np.array([[1,0.8],[0.8,2]]), u = np.random.uniform(-1, 1, (2, 500))  ):\n",
    "    N    = u.shape[1]\n",
    "    rng  = dict(x=(u[0,:].min(), u[0,:].max()), y=(u[1,:].min(), u[1,:].max()))\n",
    "    \n",
    "    y = covx @ u                                # apply the covariance matrix as a linear transform\n",
    "    p = [np.stack([u[:,i],y[:,i]]) for i in range(0,y.shape[1],10)]\n",
    "\n",
    "    # compute the singular vectors of the covariance matrix\n",
    "    #    and find the axes\n",
    "    origin = y.mean(axis=1)\n",
    "    e1, v1 = np.linalg.eig(covx)\n",
    "    v1[:,0] *= 5*e1[0]; v1[:,1] *= 5*e1[1]\n",
    "    a = [np.stack([v1[:,i], origin]) for i in range(2)]\n",
    "\n",
    "    return (hv.Path(p)*hv.Path(a, group='AXIS')*hv.Scatter(u.T, group='A')*hv.Scatter(y.T, group='B'))\\\n",
    "           .redim.range(**rng)\n",
    "\n",
    "theta = np.linspace(0, 2*np.pi, 500)\n",
    "h=\\\n",
    "apply_covariance_matrix_to_data()+\\\n",
    "apply_covariance_matrix_to_data(u = np.stack( [np.cos(theta), np.sin(theta)]))\n",
    "h.relabel('Covariance Matrix as a linear transform').redim.range(x=(-2.5,2.5),y=(-2.5,2.5))"
   ]
  },
  {
   "cell_type": "code",
   "execution_count": null,
   "metadata": {},
   "outputs": [],
   "source": [
    "# what happened to the styling?\n",
    "h"
   ]
  },
  {
   "cell_type": "markdown",
   "metadata": {},
   "source": [
    "# example 13"
   ]
  },
  {
   "cell_type": "code",
   "execution_count": null,
   "metadata": {},
   "outputs": [],
   "source": [
    "%%opts ErrorBars [width=400 height=600 invert_axes=True yticks=yticks ] (line_color='slateblue' lower_head=None upper_head=None)\n",
    "\n",
    "# First and last ytick appear as numerical values rather than strings\n",
    "\n",
    "yticks=[ (0.0, 'ID'),\n",
    "         (0.02040816326530612, 'NJ'), (0.04081632653061224,'MN'), (0.061224489795918366, 'ND'),\n",
    "         (0.08163265306122448, 'CT'), (0.1020408163265306, 'UT'), (0.12244897959183673,  'NE'),\n",
    "         (0.14285714285714285, 'SC'), (0.16326530612244897,'WI'), (0.18367346938775508,  'PA'),\n",
    "         (0.2040816326530612,  'NY'), (0.22448979591836732,'CA'), (0.24489795918367346,  'FL'),\n",
    "         (0.26530612244897955, 'MT'), (0.2857142857142857, 'IL'), (0.3061224489795918,   'WY'),\n",
    "         (0.32653061224489793, 'MO'), (0.3469387755102041, 'HI'), (0.36734693877551017,  'VA'),\n",
    "         (0.3877551020408163,  'TX'), (0.4081632653061224, 'MI'), (0.42857142857142855,  'DE'),\n",
    "         (0.44897959183673464, 'DC'), (0.4693877551020408, 'NC'), (0.4897959183673469,   'OH'),\n",
    "         (0.5102040816326531,  'IA'), (0.5306122448979591, 'KS'), (0.5510204081632653,   'MD'),\n",
    "         (0.5714285714285714,  'MA'), (0.5918367346938775, 'WA'), (0.6122448979591836,   'NM'),\n",
    "         (0.6326530612244897,  'WV'), (0.6530612244897959, 'VT'), (0.673469387755102,    'OR'),\n",
    "         (0.6938775510204082,  'SD'), (0.7142857142857142, 'AZ'), (0.7346938775510203,   'TN'),\n",
    "         (0.7551020408163265,  'NH'), (0.7755102040816326, 'IN'), (0.7959183673469387,   'MS'),\n",
    "         (0.8163265306122448,  'LA'), (0.836734693877551,  'RI'), (0.8571428571428571,   'CO'),\n",
    "         (0.8775510204081632,  'GA'), (0.8979591836734693, 'OK'), (0.9183673469387754,   'KY'),\n",
    "         (0.9387755102040816,  'AK'), (0.9591836734693877, 'AL'), (0.9795918367346939,   'AR'),\n",
    "         (1.0, 'ME')]\n",
    "\n",
    "data = (\n",
    " np.array([0.        , 0.02040816, 0.04081633, 0.06122449, 0.08163265,\n",
    "        0.10204082, 0.12244898, 0.14285714, 0.16326531, 0.18367347,\n",
    "        0.20408163, 0.2244898 , 0.24489796, 0.26530612, 0.28571429,\n",
    "        0.30612245, 0.32653061, 0.34693878, 0.36734694, 0.3877551 ,\n",
    "        0.40816327, 0.42857143, 0.44897959, 0.46938776, 0.48979592,\n",
    "        0.51020408, 0.53061224, 0.55102041, 0.57142857, 0.59183673,\n",
    "        0.6122449 , 0.63265306, 0.65306122, 0.67346939, 0.69387755,\n",
    "        0.71428571, 0.73469388, 0.75510204, 0.7755102 , 0.79591837,\n",
    "        0.81632653, 0.83673469, 0.85714286, 0.87755102, 0.89795918,\n",
    "        0.91836735, 0.93877551, 0.95918367, 0.97959184, 1.        ]),\n",
    " np.array([-4.38200978, -2.28187684, -2.22798073, -2.15924069, -1.69731109,\n",
    "       -1.66836895, -1.49977227, -1.34683278, -1.26624425, -1.2001391 ,\n",
    "       -1.08571591, -1.05366837, -0.98257495, -0.96501079, -0.91232407,\n",
    "       -0.72111585, -0.65192939, -0.47504178, -0.46884986, -0.41837155,\n",
    "       -0.29882139, -0.20403261, -0.18428986, -0.10327432, -0.07599212,\n",
    "       -0.03803579,  0.02078841,  0.17117673,  0.17195909,  0.20955432,\n",
    "        0.28689356,  0.3240377 ,  0.54876873,  0.61849   ,  0.79680994,\n",
    "        0.88364427,  0.9133934 ,  0.96834871,  0.97722995,  1.15115139,\n",
    "        1.18356002,  1.47546114,  1.69745361,  1.73229934,  1.73501903,\n",
    "        1.84370194,  2.22784641,  2.32955558,  2.42933264,  3.40369997]),\n",
    " np.array([0.58004654, 0.77546848, 0.55096558, 0.88299432, 0.44458719,\n",
    "        0.66819852, 0.76041589, 0.76890879, 1.49172919, 0.60598565,\n",
    "        0.56333368, 1.11130121, 1.16541973, 0.53612363, 0.48676481,\n",
    "        0.51586677, 0.54494741, 0.57077888, 0.45602756, 0.97516434,\n",
    "        0.64486194, 1.01967916, 0.56309941, 0.8735182 , 0.41841549,\n",
    "        0.53740329, 0.66735027, 0.58893196, 0.54627256, 0.81147552,\n",
    "        0.39036651, 0.95485441, 0.44286027, 0.93777007, 0.60544969,\n",
    "        0.72565077, 0.42034183, 0.7428953 , 0.93043359, 0.50103738,\n",
    "        0.51158856, 0.66183206, 0.49033868, 1.2042867 , 0.57208299,\n",
    "        0.57753521, 0.42049483, 0.63635629, 0.65774171, 1.25852429]),\n",
    " np.array([0.58004654, 0.77546848, 0.55096558, 0.88299432, 0.44458719,\n",
    "        0.66819852, 0.76041589, 0.76890879, 1.49172919, 0.60598565,\n",
    "        0.56333368, 1.11130121, 1.16541973, 0.53612363, 0.48676481,\n",
    "        0.51586677, 0.54494741, 0.57077888, 0.45602756, 0.97516434,\n",
    "        0.64486194, 1.01967916, 0.56309941, 0.8735182 , 0.41841549,\n",
    "        0.53740329, 0.66735027, 0.58893196, 0.54627256, 0.81147552,\n",
    "        0.39036651, 0.95485441, 0.44286027, 0.93777007, 0.60544969,\n",
    "        0.72565077, 0.42034183, 0.7428953 , 0.93043359, 0.50103738,\n",
    "        0.51158856, 0.66183206, 0.49033868, 1.2042867 , 0.57208299,\n",
    "        0.57753521, 0.42049483, 0.63635629, 0.65774171, 1.25852429]))\n",
    "\n",
    "hv.ErrorBars(data).redim.range( x=(-.03,1.03), y=(-5.5,5.5))\\\n",
    ".relabel('Average Prediction Error by State')"
   ]
  },
  {
   "cell_type": "markdown",
   "metadata": {},
   "source": [
    "# example 14"
   ]
  },
  {
   "cell_type": "code",
   "execution_count": null,
   "metadata": {},
   "outputs": [],
   "source": [
    "# not really a bug, just a weird edge case...\n",
    "h1 = hv.Curve((np.linspace(0,1,100)**2),group='')\n",
    "h2 = hv.Curve((np.linspace(0,1,100)**3),group='a3')\n",
    "# h1 and h2 can be displayed individually, but h1*h2 and h1+h2 yield an error\n",
    "#    the problem arose when I wanted to pass a group argument to a function constructing a plot\n",
    "#    group=None is not allowed: the solution was to pass a potentially empty dictionary hv.Curve(data,**group_dict)\n",
    "h1*h2"
   ]
  },
  {
   "cell_type": "code",
   "execution_count": null,
   "metadata": {},
   "outputs": [],
   "source": []
  }
 ],
 "metadata": {
  "kernelspec": {
   "display_name": "Python 3",
   "language": "python",
   "name": "python3"
  },
  "language_info": {
   "codemirror_mode": {
    "name": "ipython",
    "version": 3
   },
   "file_extension": ".py",
   "mimetype": "text/x-python",
   "name": "python",
   "nbconvert_exporter": "python",
   "pygments_lexer": "ipython3",
   "version": "3.6.3"
  },
  "latex_envs": {
   "LaTeX_envs_menu_present": true,
   "autocomplete": true,
   "bibliofile": "biblio.bib",
   "cite_by": "apalike",
   "current_citInitial": 1,
   "eqLabelWithNumbers": true,
   "eqNumInitial": 1,
   "hotkeys": {
    "equation": "Ctrl-E",
    "itemize": "Ctrl-I"
   },
   "labels_anchors": false,
   "latex_user_defs": false,
   "report_style_numbering": false,
   "user_envs_cfg": false
  },
  "varInspector": {
   "cols": {
    "lenName": 16,
    "lenType": 16,
    "lenVar": 40
   },
   "kernels_config": {
    "python": {
     "delete_cmd_postfix": "",
     "delete_cmd_prefix": "del ",
     "library": "var_list.py",
     "varRefreshCmd": "print(var_dic_list())"
    },
    "r": {
     "delete_cmd_postfix": ") ",
     "delete_cmd_prefix": "rm(",
     "library": "var_list.r",
     "varRefreshCmd": "cat(var_dic_list()) "
    }
   },
   "types_to_exclude": [
    "module",
    "function",
    "builtin_function_or_method",
    "instance",
    "_Feature"
   ],
   "window_display": false
  }
 },
 "nbformat": 4,
 "nbformat_minor": 2
}
