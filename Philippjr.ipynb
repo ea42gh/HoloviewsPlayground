{
 "cells": [
  {
   "cell_type": "markdown",
   "metadata": {},
   "source": [
    "# setup"
   ]
  },
  {
   "cell_type": "code",
   "execution_count": null,
   "metadata": {},
   "outputs": [],
   "source": [
    "import numpy as np\n",
    "import pandas as pd\n",
    "import holoviews as hv\n",
    "hv.extension('bokeh','matplotlib')"
   ]
  },
  {
   "cell_type": "code",
   "execution_count": null,
   "metadata": {},
   "outputs": [],
   "source": [
    "%%output backend='matplotlib'\n",
    "%opts Overlay [legend_position='bottom']\n",
    "%opts Points.R (color='r') Points.XY (color='blue') Points.XZ (color='green' size=5)"
   ]
  },
  {
   "cell_type": "code",
   "execution_count": null,
   "metadata": {},
   "outputs": [],
   "source": [
    "%%output backend='bokeh'\n",
    "%opts Overlay [legend_position='bottom']\n",
    "%opts Points.R (color='r') Points.XY (color='blue') Points.XZ (color='green' size=5)"
   ]
  },
  {
   "cell_type": "code",
   "execution_count": null,
   "metadata": {},
   "outputs": [],
   "source": [
    "def mk_vector(): return np.random.normal(size=100)\n",
    "df = pd.DataFrame( dict( x = mk_vector(), y=mk_vector(), z=mk_vector()))\n",
    "for i in range(5): df[str(i)] = mk_vector()\n",
    "\n",
    "df.tail().round(2)"
   ]
  },
  {
   "cell_type": "markdown",
   "metadata": {
    "heading_collapsed": true
   },
   "source": [
    "# example 1"
   ]
  },
  {
   "cell_type": "code",
   "execution_count": null,
   "metadata": {
    "code_folding": [
     2
    ],
    "hidden": true
   },
   "outputs": [],
   "source": [
    "import logging\n",
    "\n",
    "def mk_view_1(use_z=True):\n",
    "    h = hv.Points( df, kdims=['x', 'y'], group='XY', label='xy')*\\\n",
    "        hv.Points( (mk_vector(),mk_vector()), group='R', label='random')\n",
    "    if use_z:\n",
    "        h = h*hv.Points(df, kdims=['x', 'z'], group='XZ', label='xz')\n",
    "        #logging.info('z')\n",
    "    return h\n",
    "\n",
    "# in the following, use_z is initialized to 0 - which python interprets as False\n",
    "dmap_1=hv.DynamicMap(mk_view_1, kdims=['use_z']).redim.values(use_z=[True,False])\n",
    "dmap_1"
   ]
  },
  {
   "cell_type": "code",
   "execution_count": null,
   "metadata": {
    "hidden": true
   },
   "outputs": [],
   "source": [
    "# This initializes use_z correctly, but changing the setting no longer works\n",
    "hv.HoloMap(dmap_1)"
   ]
  },
  {
   "cell_type": "code",
   "execution_count": null,
   "metadata": {
    "hidden": true
   },
   "outputs": [],
   "source": [
    "%%output backend='matplotlib'\n",
    "# in this example, use_z is initialized to 0, selector can be changed once, has no effect thereafter\n",
    "plt_dmap_1=hv.DynamicMap(mk_view_1, kdims=['use_z']).redim.values(use_z=[True,False])\n",
    "plt_dmap_1"
   ]
  },
  {
   "cell_type": "markdown",
   "metadata": {
    "heading_collapsed": true
   },
   "source": [
    "# example 2"
   ]
  },
  {
   "cell_type": "code",
   "execution_count": null,
   "metadata": {
    "hidden": true
   },
   "outputs": [],
   "source": [
    "%%opts Distribution {+framewise}\n",
    "\n",
    "def mk_view_2(i, use_z=True):\n",
    "    h = hv.Points( df, kdims=['x', 'y'], group='XY', label='xy')*\\\n",
    "        hv.Points( (mk_vector(),mk_vector()), group='R', label='random')\n",
    "    if use_z:\n",
    "        h = h*hv.Points(df, kdims=['x', 'z'], group='XZ', label='xz')\n",
    "        #logging.info('z')\n",
    "\n",
    "    return (h+hv.Distribution( df[str(i)])).relabel('CURRENT i=%d'%i)\n",
    "\n",
    "#use_z is correctly initialized to true, this example works as expected\n",
    "#However, the title returned by mk_view_2 stays fixed!\n",
    "dmap_2=hv.DynamicMap(mk_view_2, kdims=['i', 'use_z']).redim.values(i=np.arange(5), use_z=[True,False])\n",
    "dmap_2"
   ]
  },
  {
   "cell_type": "code",
   "execution_count": null,
   "metadata": {
    "hidden": true
   },
   "outputs": [],
   "source": [
    "%%opts Distribution {+framewise}\n",
    "# this fails: selectors do not work, trying to change i changes the use_z selector\n",
    "hv.HoloMap(dmap_2)"
   ]
  },
  {
   "cell_type": "code",
   "execution_count": null,
   "metadata": {
    "hidden": true
   },
   "outputs": [],
   "source": [
    "%%opts Distribution {+framewise}\n",
    "# this fails too:\n",
    "#  AttributeError: 'NoneType' object has no attribute 'clone'\n",
    "\n",
    "dmap_3=hv.DynamicMap(mk_view_2, kdims=['i', 'use_z']).redim.values(i=np.arange(5), use_z=[True,False])\n",
    "hv.HoloMap(dmap_3).collate()"
   ]
  },
  {
   "cell_type": "code",
   "execution_count": null,
   "metadata": {
    "hidden": true
   },
   "outputs": [],
   "source": [
    "%%output backend='matplotlib'\n",
    "\n",
    "# This produces an error:\n",
    "# Exception: Some Elements returned by the dynamic callback were not initialized correctly and could not be rendered.\n",
    "plt_dmap_2=hv.DynamicMap(mk_view_2, kdims=['i', 'use_z']).redim.values(i=np.arange(5), use_z=[True,False])\n",
    "plt_dmap_2"
   ]
  },
  {
   "cell_type": "markdown",
   "metadata": {
    "heading_collapsed": true
   },
   "source": [
    "# example 3"
   ]
  },
  {
   "cell_type": "code",
   "execution_count": null,
   "metadata": {
    "hidden": true
   },
   "outputs": [],
   "source": [
    "def mk_view_3(i,sigma,unused,use_z=True):\n",
    "    h=\\\n",
    "    hv.Points( df, kdims=['x', 'y'], group='XY', label='xy')*\\\n",
    "    hv.Points( (df['1'],sigma*df['2']),  group='R', label='random')*\\\n",
    "    hv.Points( df, kdims=[str(i),str(i)],group='XZ', label='diagonal')\n",
    "    if use_z:\n",
    "        h = h*hv.Points(df, kdims=['x', 'z'], group='XZ', label='xz')\n",
    "    return h\n",
    "dmap_3 = hv.DynamicMap( mk_view_3, kdims=['i','sigma','unused','use_z'])\\\n",
    "          .redim.values(i=np.arange(5),sigma=[2.,3.5,5.], unused=[3,4,5], use_z=[True,False])\n",
    "\n",
    "# this just produces a text representation:   :HoloMap   [i,sigma,unused,use_z]\n",
    "hv.HoloMap(dmap_3)"
   ]
  },
  {
   "cell_type": "code",
   "execution_count": null,
   "metadata": {
    "hidden": true
   },
   "outputs": [],
   "source": [
    "%%output backend='matplotlib'\n",
    "plt_dmap_3 = hv.DynamicMap( mk_view_3, kdims=['i','sigma','unused','use_z'])\\\n",
    "          .redim.values(i=np.arange(5),sigma=[2.,3.5,5.], unused=[3,4,5], use_z=[True,False])\n",
    "# this just produces a text representation:   :HoloMap   [i,sigma,unused,use_z]\n",
    "hv.HoloMap(plt_dmap_3)"
   ]
  },
  {
   "cell_type": "markdown",
   "metadata": {
    "heading_collapsed": true
   },
   "source": [
    "# example 4"
   ]
  },
  {
   "cell_type": "code",
   "execution_count": null,
   "metadata": {
    "hidden": true
   },
   "outputs": [],
   "source": [
    "%%opts Histogram Distribution [invert_axes=True] {+framewise}\n",
    "def mk_view_4(i,unused):\n",
    "    h=\\\n",
    "    hv.Histogram(np.histogram(df[str(i)],normed=True),label='hist')*\\\n",
    "    hv.Distribution( df[str(i)], group='XY', label='xy')\n",
    "    return h\n",
    "\n",
    "dmap_4 = hv.DynamicMap( mk_view_4, kdims=['i','unused'])\\\n",
    "          .redim.values(i=np.arange(5), unused=[3,4,5])\n",
    "\n",
    "if True:\n",
    "    dmap = dmap_4\n",
    "    # no legend for Distribution\n",
    "    # would be nice to be able to change hist alpha by clicking on hist legend\n",
    "else:\n",
    "    dmap = dmap_4 + hv.HoloMap(dmap_4)\n",
    "    # This does not work\n",
    "    # interestingly, this displays the plot without inverting axes,\n",
    "    # then redisplays it al ittle later in time with inverted axes\n",
    "dmap"
   ]
  },
  {
   "cell_type": "code",
   "execution_count": null,
   "metadata": {
    "hidden": true
   },
   "outputs": [],
   "source": [
    "# this displays, but the selector for i has no effect\n",
    "hv.HoloMap(dmap_4)"
   ]
  },
  {
   "cell_type": "code",
   "execution_count": null,
   "metadata": {
    "hidden": true
   },
   "outputs": [],
   "source": [
    "%%output backend='matplotlib'\n",
    "plt_dmap_4 = hv.DynamicMap( mk_view_4, kdims=['i','unused'])\\\n",
    "          .redim.values(i=np.arange(5), unused=[3,4,5])\n",
    "\n",
    "# plt_dmap_4 by itself works as expected\n",
    "#    but this layout does not\n",
    "plt_dmap_4 + hv.HoloMap(plt_dmap_4)"
   ]
  },
  {
   "cell_type": "markdown",
   "metadata": {
    "hidden": true
   },
   "source": [
    "I have a weird case with actual data I can't yet reproduce:\n",
    "> for one of the cases (i = 2), the inverted_axis=2 plot produces a vertical line,\n",
    "yet when called directly, I get the expected Histogram... I'll try and see about reducing the data to a minimum"
   ]
  },
  {
   "cell_type": "markdown",
   "metadata": {
    "heading_collapsed": true
   },
   "source": [
    "# example 5"
   ]
  },
  {
   "cell_type": "code",
   "execution_count": null,
   "metadata": {
    "hidden": true
   },
   "outputs": [],
   "source": [
    "%%opts Histogram Distribution [invert_axes=True width=200 yaxis=None] {+framewise}\n",
    "%%opts Path (color='indianred', line_width=4)\n",
    "%%opts DynamicMap [width=700]\n",
    "#      ^^^^^^^^^^             seems to be honored, but produces a warning\n",
    "def mk_view_5(i,unused):\n",
    "    points = \\\n",
    "        hv.Points( df, kdims=['x', 'y'], group='XY', label='xy') *\\\n",
    "        hv.Points( (mk_vector(),mk_vector()), group='R', label='random')\n",
    "    lines  = hv.Path([ [(-1, -1), (2,2), (-1,3), (3,-1), (3,2)] ],label='path')\n",
    "    #                                                             ^^^^^^^^^^^^  legend not honored\n",
    "    \n",
    "    hist = hv.Histogram(np.histogram(df[str(i)],normed=True))*\\\n",
    "           hv.Distribution( df[str(i)], group='XY')\n",
    "\n",
    "    return points*lines+hist\n",
    "    #return points << hist  # does not work by itself\n",
    "\n",
    "dmap_5 = hv.DynamicMap( mk_view_5, kdims=['i','unused'])\\\n",
    "          .redim.values(i=np.arange(5),unused=[0])\n",
    "dmap_5"
   ]
  },
  {
   "cell_type": "code",
   "execution_count": null,
   "metadata": {
    "hidden": true
   },
   "outputs": [],
   "source": [
    "%%output backend='matplotlib' size=100\n",
    "%%opts Histogram Distribution [invert_axes=True width=200 yaxis=None] {+framewise}\n",
    "%%opts Path (color='indianred', line_width=4)\n",
    "\n",
    "# with matplotlib, the smae graph works without any warnings!\n",
    "\n",
    "plt_dmap_5 = hv.DynamicMap( mk_view_5, kdims=['i','unused'])\\\n",
    "          .redim.values(i=np.arange(5),unused=[0])\n",
    "plt_dmap_5"
   ]
  },
  {
   "cell_type": "markdown",
   "metadata": {},
   "source": [
    "# example 6"
   ]
  },
  {
   "cell_type": "code",
   "execution_count": null,
   "metadata": {},
   "outputs": [],
   "source": [
    "%%opts Contours [width=800 colorbar=True colorbar_position='left']\n",
    "%%opts Image (cmap='Blues_r')\n",
    "vals=np.linspace(-10,10, 200); xx,yy=np.meshgrid(vals,vals)\n",
    "img=hv.Image(xx*yy)\n",
    "img*hv.operation.contours(img)\n",
    "# why did this generate legends?  hv.operation.contours(img) does not\n",
    "# why are the legends not clickable individually, why does clicking them have no effect?"
   ]
  },
  {
   "cell_type": "code",
   "execution_count": null,
   "metadata": {},
   "outputs": [],
   "source": [
    "%%output backend='matplotlib' size=200\n",
    "%%opts Contours [width=800 colorbar=True colorbar_position='left']\n",
    "%%opts Image (cmap='Blues_r')\n",
    "vals=np.linspace(-10,10, 200); xx,yy=np.meshgrid(vals,vals)\n",
    "img=hv.Image(xx*yy)\n",
    "img*hv.operation.contours(img)\n",
    "\n",
    "# no legends here, but the colorbar_position is not honored"
   ]
  },
  {
   "cell_type": "markdown",
   "metadata": {},
   "source": [
    "# example 7"
   ]
  },
  {
   "cell_type": "code",
   "execution_count": null,
   "metadata": {},
   "outputs": [],
   "source": [
    "# %%opts Points [width=500 tools=['hover']] (size=5 color=Cycle('Blues'))\n",
    "\n",
    "# cannot get points to honor the color!\n",
    "\n",
    "import seaborn as sns\n",
    "iris            = sns.load_dataset(\"iris\")\n",
    "iris['species'] = iris['species'].astype('category')\n",
    "\n",
    "def strip_plot(df,x,y,jitter=.2):\n",
    "    ticks = [(i,v) for i,v in enumerate(df[x].cat.categories)]\n",
    "    return hv.Points(np.array([df[x].cat.codes+np.random.uniform(-jitter,jitter,size=df.shape[0]), df[y], df[x].cat.codes.astype(float)]).T, kdims=[x,y])\\\n",
    "             .opts(plot=dict(xticks=ticks, color_index=x), style=dict(size=5,color=hv.Cycle('Blues')))\n",
    "\n",
    "strip_plot( iris, 'species', 'sepal_length').redim.range(species=(-.5,2.5),sepal_length=(4,8.5))"
   ]
  },
  {
   "cell_type": "code",
   "execution_count": null,
   "metadata": {},
   "outputs": [],
   "source": [
    "%%output backend='matplotlib' size=200\n",
    "\n",
    "def strip_plot(df,x,y,jitter=.2):\n",
    "    ticks = [(i,v) for i,v in enumerate(df[x].cat.categories)]\n",
    "    return hv.Points(np.array([df[x].cat.codes+np.random.uniform(-jitter,jitter,size=df.shape[0]), df[y], df[x].cat.codes.astype(float)]).T, kdims=[x,y])\\\n",
    "             .opts(plot=dict(xticks=ticks, color_index=x), style=dict(size=5,color=hv.Cycle('Blues')))\n",
    "\n",
    "strip_plot( iris, 'species', 'sepal_length').redim.range(species=(-.5,2.5),sepal_length=(4,8.5))\n",
    "\n",
    "# this seems to work apart from the color cycle selection"
   ]
  },
  {
   "cell_type": "code",
   "execution_count": null,
   "metadata": {},
   "outputs": [],
   "source": [
    "# BoxWhisker does not accept ticks lists: the x axis ticks are the cat.codes rather than the cat.names\n",
    "\n",
    "def boxwhisker_plot(df,x,y,jitter=.2):\n",
    "    ticks = [(i,v) for i,v in enumerate(df[x].cat.categories)]\n",
    "    return hv.BoxWhisker(np.array([df[x].cat.codes, df[y]]).T, x,y)\\\n",
    "             .opts(plot=dict(xticks=ticks))\n",
    "boxwhisker_plot( iris, 'species', 'sepal_length').redim.range(species=(-.5,2.5),sepal_length=(4,8.5))"
   ]
  },
  {
   "cell_type": "code",
   "execution_count": null,
   "metadata": {},
   "outputs": [],
   "source": [
    "%%output backend='matplotlib'\n",
    "\n",
    "def boxwhisker_plot(df,x,y,jitter=.2):\n",
    "    ticks = [(i,v) for i,v in enumerate(df[x].cat.categories)]\n",
    "    return hv.BoxWhisker(np.array([df[x].cat.codes, df[y]]).T, x,y)\\\n",
    "             .opts(plot=dict(xticks=ticks, color_index=x))\n",
    "boxwhisker_plot( iris, 'species', 'sepal_length').redim.range(species=(-.5,2.5),sepal_length=(4,8.5))\n",
    "\n",
    "# here, the x axis is messed up"
   ]
  },
  {
   "cell_type": "markdown",
   "metadata": {},
   "source": [
    "# example 8"
   ]
  },
  {
   "cell_type": "code",
   "execution_count": null,
   "metadata": {},
   "outputs": [],
   "source": [
    "%%opts Bivariate [bandwidth=0.5] (cmap='Blues') Points (s=4)\n",
    "from bokeh.sampledata.iris import flowers\n",
    "from holoviews.operation import gridmatrix\n",
    "\n",
    "if True:\n",
    "    # gridmatrix cannot handle categorical entries\n",
    "    flowers['species'] = flowers['species'].astype('category')\n",
    "elif False:\n",
    "    # yields: 'Image dimension petal_length is not evenly sampled, please use the QuadMesh' error message\n",
    "    flowers['species'] =100.* (flowers['species'].astype('category').cat.codes+1).astype(float)\n",
    "\n",
    "\n",
    "iris_ds = hv.Dataset(flowers)\n",
    "\n",
    "density_grid = gridmatrix(iris_ds, diagonal_type=hv.Distribution, chart_type=hv.Bivariate)\n",
    "point_grid   = gridmatrix(iris_ds, diagonal_type=hv.Distribution, chart_type=hv.Points   )\n",
    "point_grid = point_grid.map(lambda x: hv.Overlay(), hv.Distribution)\n",
    "\n",
    "density_grid * point_grid"
   ]
  },
  {
   "cell_type": "code",
   "execution_count": null,
   "metadata": {},
   "outputs": [],
   "source": []
  }
 ],
 "metadata": {
  "kernelspec": {
   "display_name": "Python 3",
   "language": "python",
   "name": "python3"
  },
  "language_info": {
   "codemirror_mode": {
    "name": "ipython",
    "version": 3
   },
   "file_extension": ".py",
   "mimetype": "text/x-python",
   "name": "python",
   "nbconvert_exporter": "python",
   "pygments_lexer": "ipython3",
   "version": "3.6.3"
  },
  "latex_envs": {
   "LaTeX_envs_menu_present": true,
   "autocomplete": true,
   "bibliofile": "biblio.bib",
   "cite_by": "apalike",
   "current_citInitial": 1,
   "eqLabelWithNumbers": true,
   "eqNumInitial": 1,
   "hotkeys": {
    "equation": "Ctrl-E",
    "itemize": "Ctrl-I"
   },
   "labels_anchors": false,
   "latex_user_defs": false,
   "report_style_numbering": false,
   "user_envs_cfg": false
  },
  "varInspector": {
   "cols": {
    "lenName": 16,
    "lenType": 16,
    "lenVar": 40
   },
   "kernels_config": {
    "python": {
     "delete_cmd_postfix": "",
     "delete_cmd_prefix": "del ",
     "library": "var_list.py",
     "varRefreshCmd": "print(var_dic_list())"
    },
    "r": {
     "delete_cmd_postfix": ") ",
     "delete_cmd_prefix": "rm(",
     "library": "var_list.r",
     "varRefreshCmd": "cat(var_dic_list()) "
    }
   },
   "types_to_exclude": [
    "module",
    "function",
    "builtin_function_or_method",
    "instance",
    "_Feature"
   ],
   "window_display": false
  }
 },
 "nbformat": 4,
 "nbformat_minor": 2
}
